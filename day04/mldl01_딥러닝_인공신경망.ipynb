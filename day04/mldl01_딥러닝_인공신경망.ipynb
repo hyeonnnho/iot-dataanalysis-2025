{
 "cells": [
  {
   "cell_type": "markdown",
   "id": "222582a2",
   "metadata": {},
   "source": [
    "## 딥러닝\n",
    "\n",
    "### 인공신경망"
   ]
  },
  {
   "cell_type": "markdown",
   "id": "003dfe5b",
   "metadata": {},
   "source": [
    "#### Tensorflow\n",
    "- https://www.tensorflow.org/?hl=ko\n",
    "- 딥러닝 라이브러리 중 가장 유명\n",
    "- 구글 브레인팀에서 개발\n",
    "\n",
    "#### PyTorch\n",
    "- https://pytorch.org/\n",
    "- https://pytorch.kr/\n",
    "- 메타(페이스북)에서 개발한 딥러닝 라이브러리\n",
    "- GPU 사용이 매우 용이해서 빨리 처리가능"
   ]
  },
  {
   "cell_type": "markdown",
   "id": "89a6d296",
   "metadata": {},
   "source": [
    "#### MNIST 데이터\n",
    "- AI에서 많이 사용하는 데이터셋 중 하나\n",
    "- 미국 국립표준기술연구소에서 배포하는 이미지 데이터\n",
    "- 손글씨(0~9), 붓꽃데이터, 패션데이터, Cifar10(컬러 이미지)등 존재"
   ]
  },
  {
   "cell_type": "markdown",
   "id": "1df23466",
   "metadata": {},
   "source": [
    "Fashion MNIST"
   ]
  },
  {
   "cell_type": "code",
   "execution_count": 1,
   "id": "da405852",
   "metadata": {},
   "outputs": [
    {
     "name": "stdout",
     "output_type": "stream",
     "text": [
      "WARNING:tensorflow:From c:\\Source\\iot-dataanalysis-2025\\mlvenv\\Lib\\site-packages\\keras\\src\\losses.py:2976: The name tf.losses.sparse_softmax_cross_entropy is deprecated. Please use tf.compat.v1.losses.sparse_softmax_cross_entropy instead.\n",
      "\n"
     ]
    }
   ],
   "source": [
    "# 텐서플로우 사용\n",
    "from tensorflow import keras"
   ]
  },
  {
   "cell_type": "code",
   "execution_count": 2,
   "id": "27aa3903",
   "metadata": {},
   "outputs": [],
   "source": [
    "# 패션MNIST를 로드하면서 훈련 세트와 테스트 세트로 분리\n",
    "# sklearn train_test_split()와 변수 배치가 다름!\n",
    "(train_input, train_target), (test_input, test_target) = keras.datasets.fashion_mnist.load_data()"
   ]
  },
  {
   "cell_type": "code",
   "execution_count": 3,
   "id": "ffadf5bd",
   "metadata": {},
   "outputs": [
    {
     "data": {
      "text/plain": [
       "(60000, 28, 28)"
      ]
     },
     "execution_count": 3,
     "metadata": {},
     "output_type": "execute_result"
    }
   ],
   "source": [
    "# 60000개 이미지 데이터, 넓이 28픽셀, 높이 28픽셀\n",
    "train_input.shape"
   ]
  },
  {
   "cell_type": "code",
   "execution_count": 4,
   "id": "d975aa6c",
   "metadata": {},
   "outputs": [
    {
     "data": {
      "text/plain": [
       "(60000,)"
      ]
     },
     "execution_count": 4,
     "metadata": {},
     "output_type": "execute_result"
    }
   ],
   "source": [
    "# 60000개 이미지에 대한 분류값\n",
    "train_target.shape"
   ]
  },
  {
   "cell_type": "markdown",
   "id": "d75658fc",
   "metadata": {},
   "source": [
    "#### 이미지 시각화"
   ]
  },
  {
   "cell_type": "code",
   "execution_count": 5,
   "id": "698a4905",
   "metadata": {},
   "outputs": [],
   "source": [
    "import matplotlib.pyplot as plt\n",
    "import seaborn as sns\n",
    "import numpy as np"
   ]
  },
  {
   "cell_type": "code",
   "execution_count": 6,
   "id": "891485c5",
   "metadata": {},
   "outputs": [],
   "source": [
    "# 한글로 Matplotlib 사용시 항상 필요\n",
    "from matplotlib import rcParams, font_manager, rc\n",
    "\n",
    "font_path = 'C:/Windows/Fonts/malgun.ttf'\n",
    "font = font_manager.FontProperties(fname=font_path).get_name()\n",
    "rc('font', family=font)\n",
    "rcParams['axes.unicode_minus'] = False\n",
    "\n",
    "sns.set_style('darkgrid')\n",
    "sns.set_theme(font='Malgun Gothic', rc={'axes.unicode_minus': False})"
   ]
  },
  {
   "cell_type": "code",
   "execution_count": 7,
   "id": "9eb5cc72",
   "metadata": {},
   "outputs": [
    {
     "data": {
      "image/png": "[encoded data removed]",
      "text/plain": [
       "<Figure size 1300x200 with 10 Axes>"
      ]
     },
     "metadata": {},
     "output_type": "display_data"
    }
   ],
   "source": [
    "# 10개 차트 그리기\n",
    "fig, axes = plt.subplots(1, 10, figsize=(13, 2))\n",
    "for i in range(10):\n",
    "    axes[i].imshow(train_input[i], cmap='gray_r')\n",
    "    axes[i].axis('off')\n",
    "\n",
    "plt.title('Fashion MNIST 훈련 샘플')\n",
    "plt.show()"
   ]
  },
  {
   "cell_type": "markdown",
   "id": "acb86869",
   "metadata": {},
   "source": [
    "- 이미지는 픽셀당 흑백은 1byte, 컬러는 3~4bytes를 사용\n",
    "- 해상도가 커지면 이미지 파일 사이즈가 기하급수적으로 증가\n",
    "- 28x28 정도로 제한"
   ]
  },
  {
   "cell_type": "code",
   "execution_count": 8,
   "id": "006619cb",
   "metadata": {},
   "outputs": [
    {
     "data": {
      "text/plain": [
       "[9, 0, 0, 3, 0, 2, 7, 2, 5, 5]"
      ]
     },
     "execution_count": 8,
     "metadata": {},
     "output_type": "execute_result"
    }
   ],
   "source": [
    "#\n",
    "[train_target[i] for i in  range(10)]"
   ]
  },
  {
   "cell_type": "markdown",
   "id": "7805b003",
   "metadata": {},
   "source": [
    "| 레이블 | 0     | 1    | 2     | 3     | 4    | 5     | 6     | 7        | 8    | 9        |\n",
    "|:------:|:-----:|:----:|:-----:|:-----:|:----:|:-----:|:-----:|:--------:|:----:|:--------:|\n",
    "| 패션MNIST | 티셔츠 | 바지 | 스웨터 | 드레스 | 코트 | 샌달 | 셔츠 | 스니커즈 | 가방 | 앵클부츠 |\n"
   ]
  },
  {
   "cell_type": "code",
   "execution_count": 9,
   "id": "e4a3cb3e",
   "metadata": {},
   "outputs": [
    {
     "data": {
      "text/plain": [
       "(array([0, 1, 2, 3, 4, 5, 6, 7, 8, 9], dtype=uint8),\n",
       " array([6000, 6000, 6000, 6000, 6000, 6000, 6000, 6000, 6000, 6000],\n",
       "       dtype=int64))"
      ]
     },
     "execution_count": 9,
     "metadata": {},
     "output_type": "execute_result"
    }
   ],
   "source": [
    "# 60000개 데이터에서 각 레이블 별 6000개씩 이미지가 존재\n",
    "np.unique(train_target, return_counts = True)"
   ]
  },
  {
   "cell_type": "markdown",
   "id": "0be5f6af",
   "metadata": {},
   "source": [
    "#### 사이킷런 머신러닝, 로지스틱회귀로 아이템 분류"
   ]
  },
  {
   "cell_type": "code",
   "execution_count": 10,
   "id": "b8bd118c",
   "metadata": {},
   "outputs": [],
   "source": [
    "# 사이킷런 모듈 로드\n",
    "from sklearn.linear_model import LogisticRegression\n",
    "from sklearn.preprocessing import StandardScaler\n",
    "from sklearn.model_selection import train_test_split    ## 이거 필요없음"
   ]
  },
  {
   "cell_type": "markdown",
   "id": "35432eb9",
   "metadata": {},
   "source": [
    "##### 이미지처리\n",
    "- 28 x 28 2차원 배열을 784 1차원 배열로 변경해줘야 함\n",
    "\n",
    "    <img src='../image/ml0009.png' width='500'>\n",
    "\n"
   ]
  },
  {
   "cell_type": "code",
   "execution_count": 11,
   "id": "6dfb41d7",
   "metadata": {},
   "outputs": [],
   "source": [
    "# 2D 이미지를 1D 벡터(1차원 배열)로 펼치기\n",
    "train_input = train_input.reshape(-1, 28*28)"
   ]
  },
  {
   "cell_type": "code",
   "execution_count": 12,
   "id": "4eb345f8",
   "metadata": {},
   "outputs": [
    {
     "data": {
      "text/plain": [
       "(60000, 784)"
      ]
     },
     "execution_count": 12,
     "metadata": {},
     "output_type": "execute_result"
    }
   ],
   "source": [
    "train_input.shape"
   ]
  },
  {
   "cell_type": "code",
   "execution_count": 13,
   "id": "25ec7f77",
   "metadata": {},
   "outputs": [],
   "source": [
    "test_input = test_input.reshape(-1, 28*28)"
   ]
  },
  {
   "cell_type": "code",
   "execution_count": 14,
   "id": "70d02910",
   "metadata": {},
   "outputs": [
    {
     "data": {
      "text/plain": [
       "(10000, 784)"
      ]
     },
     "execution_count": 14,
     "metadata": {},
     "output_type": "execute_result"
    }
   ],
   "source": [
    "test_input.shape"
   ]
  },
  {
   "cell_type": "code",
   "execution_count": 15,
   "id": "0a9cbb0a",
   "metadata": {},
   "outputs": [],
   "source": [
    "# 스케일링(정규화)\n",
    "scaler = StandardScaler()\n",
    "train_scaled = scaler.fit_transform(train_input.astype(np.float64))\n",
    "test_scaled = scaler.fit_transform(test_input.astype(np.float64))"
   ]
  },
  {
   "cell_type": "code",
   "execution_count": 16,
   "id": "8cff959b",
   "metadata": {},
   "outputs": [
    {
     "data": {
      "text/html": [
       "<style>#sk-container-id-1 {\n",
       "  /* Definition of color scheme common for light and dark mode */\n",
       "  --sklearn-color-text: #000;\n",
       "  --sklearn-color-text-muted: #666;\n",
       "  --sklearn-color-line: gray;\n",
       "  /* Definition of color scheme for unfitted estimators */\n",
       "  --sklearn-color-unfitted-level-0: #fff5e6;\n",
       "  --sklearn-color-unfitted-level-1: #f6e4d2;\n",
       "  --sklearn-color-unfitted-level-2: #ffe0b3;\n",
       "  --sklearn-color-unfitted-level-3: chocolate;\n",
       "  /* Definition of color scheme for fitted estimators */\n",
       "  --sklearn-color-fitted-level-0: #f0f8ff;\n",
       "  --sklearn-color-fitted-level-1: #d4ebff;\n",
       "  --sklearn-color-fitted-level-2: #b3dbfd;\n",
       "  --sklearn-color-fitted-level-3: cornflowerblue;\n",
       "\n",
       "  /* Specific color for light theme */\n",
       "  --sklearn-color-text-on-default-background: var(--sg-text-color, var(--theme-code-foreground, var(--jp-content-font-color1, black)));\n",
       "  --sklearn-color-background: var(--sg-background-color, var(--theme-background, var(--jp-layout-color0, white)));\n",
       "  --sklearn-color-border-box: var(--sg-text-color, var(--theme-code-foreground, var(--jp-content-font-color1, black)));\n",
       "  --sklearn-color-icon: #696969;\n",
       "\n",
       "  @media (prefers-color-scheme: dark) {\n",
       "    /* Redefinition of color scheme for dark theme */\n",
       "    --sklearn-color-text-on-default-background: var(--sg-text-color, var(--theme-code-foreground, var(--jp-content-font-color1, white)));\n",
       "    --sklearn-color-background: var(--sg-background-color, var(--theme-background, var(--jp-layout-color0, #111)));\n",
       "    --sklearn-color-border-box: var(--sg-text-color, var(--theme-code-foreground, var(--jp-content-font-color1, white)));\n",
       "    --sklearn-color-icon: #878787;\n",
       "  }\n",
       "}\n",
       "\n",
       "#sk-container-id-1 {\n",
       "  color: var(--sklearn-color-text);\n",
       "}\n",
       "\n",
       "#sk-container-id-1 pre {\n",
       "  padding: 0;\n",
       "}\n",
       "\n",
       "#sk-container-id-1 input.sk-hidden--visually {\n",
       "  border: 0;\n",
       "  clip: rect(1px 1px 1px 1px);\n",
       "  clip: rect(1px, 1px, 1px, 1px);\n",
       "  height: 1px;\n",
       "  margin: -1px;\n",
       "  overflow: hidden;\n",
       "  padding: 0;\n",
       "  position: absolute;\n",
       "  width: 1px;\n",
       "}\n",
       "\n",
       "#sk-container-id-1 div.sk-dashed-wrapped {\n",
       "  border: 1px dashed var(--sklearn-color-line);\n",
       "  margin: 0 0.4em 0.5em 0.4em;\n",
       "  box-sizing: border-box;\n",
       "  padding-bottom: 0.4em;\n",
       "  background-color: var(--sklearn-color-background);\n",
       "}\n",
       "\n",
       "#sk-container-id-1 div.sk-container {\n",
       "  /* jupyter's `normalize.less` sets `[hidden] { display: none; }`\n",
       "     but bootstrap.min.css set `[hidden] { display: none !important; }`\n",
       "     so we also need the `!important` here to be able to override the\n",
       "     default hidden behavior on the sphinx rendered scikit-learn.org.\n",
       "     See: https://github.com/scikit-learn/scikit-learn/issues/21755 */\n",
       "  display: inline-block !important;\n",
       "  position: relative;\n",
       "}\n",
       "\n",
       "#sk-container-id-1 div.sk-text-repr-fallback {\n",
       "  display: none;\n",
       "}\n",
       "\n",
       "div.sk-parallel-item,\n",
       "div.sk-serial,\n",
       "div.sk-item {\n",
       "  /* draw centered vertical line to link estimators */\n",
       "  background-image: linear-gradient(var(--sklearn-color-text-on-default-background), var(--sklearn-color-text-on-default-background));\n",
       "  background-size: 2px 100%;\n",
       "  background-repeat: no-repeat;\n",
       "  background-position: center center;\n",
       "}\n",
       "\n",
       "/* Parallel-specific style estimator block */\n",
       "\n",
       "#sk-container-id-1 div.sk-parallel-item::after {\n",
       "  content: \"\";\n",
       "  width: 100%;\n",
       "  border-bottom: 2px solid var(--sklearn-color-text-on-default-background);\n",
       "  flex-grow: 1;\n",
       "}\n",
       "\n",
       "#sk-container-id-1 div.sk-parallel {\n",
       "  display: flex;\n",
       "  align-items: stretch;\n",
       "  justify-content: center;\n",
       "  background-color: var(--sklearn-color-background);\n",
       "  position: relative;\n",
       "}\n",
       "\n",
       "#sk-container-id-1 div.sk-parallel-item {\n",
       "  display: flex;\n",
       "  flex-direction: column;\n",
       "}\n",
       "\n",
       "#sk-container-id-1 div.sk-parallel-item:first-child::after {\n",
       "  align-self: flex-end;\n",
       "  width: 50%;\n",
       "}\n",
       "\n",
       "#sk-container-id-1 div.sk-parallel-item:last-child::after {\n",
       "  align-self: flex-start;\n",
       "  width: 50%;\n",
       "}\n",
       "\n",
       "#sk-container-id-1 div.sk-parallel-item:only-child::after {\n",
       "  width: 0;\n",
       "}\n",
       "\n",
       "/* Serial-specific style estimator block */\n",
       "\n",
       "#sk-container-id-1 div.sk-serial {\n",
       "  display: flex;\n",
       "  flex-direction: column;\n",
       "  align-items: center;\n",
       "  background-color: var(--sklearn-color-background);\n",
       "  padding-right: 1em;\n",
       "  padding-left: 1em;\n",
       "}\n",
       "\n",
       "\n",
       "/* Toggleable style: style used for estimator/Pipeline/ColumnTransformer box that is\n",
       "clickable and can be expanded/collapsed.\n",
       "- Pipeline and ColumnTransformer use this feature and define the default style\n",
       "- Estimators will overwrite some part of the style using the `sk-estimator` class\n",
       "*/\n",
       "\n",
       "/* Pipeline and ColumnTransformer style (default) */\n",
       "\n",
       "#sk-container-id-1 div.sk-toggleable {\n",
       "  /* Default theme specific background. It is overwritten whether we have a\n",
       "  specific estimator or a Pipeline/ColumnTransformer */\n",
       "  background-color: var(--sklearn-color-background);\n",
       "}\n",
       "\n",
       "/* Toggleable label */\n",
       "#sk-container-id-1 label.sk-toggleable__label {\n",
       "  cursor: pointer;\n",
       "  display: flex;\n",
       "  width: 100%;\n",
       "  margin-bottom: 0;\n",
       "  padding: 0.5em;\n",
       "  box-sizing: border-box;\n",
       "  text-align: center;\n",
       "  align-items: start;\n",
       "  justify-content: space-between;\n",
       "  gap: 0.5em;\n",
       "}\n",
       "\n",
       "#sk-container-id-1 label.sk-toggleable__label .caption {\n",
       "  font-size: 0.6rem;\n",
       "  font-weight: lighter;\n",
       "  color: var(--sklearn-color-text-muted);\n",
       "}\n",
       "\n",
       "#sk-container-id-1 label.sk-toggleable__label-arrow:before {\n",
       "  /* Arrow on the left of the label */\n",
       "  content: \"▸\";\n",
       "  float: left;\n",
       "  margin-right: 0.25em;\n",
       "  color: var(--sklearn-color-icon);\n",
       "}\n",
       "\n",
       "#sk-container-id-1 label.sk-toggleable__label-arrow:hover:before {\n",
       "  color: var(--sklearn-color-text);\n",
       "}\n",
       "\n",
       "/* Toggleable content - dropdown */\n",
       "\n",
       "#sk-container-id-1 div.sk-toggleable__content {\n",
       "  max-height: 0;\n",
       "  max-width: 0;\n",
       "  overflow: hidden;\n",
       "  text-align: left;\n",
       "  /* unfitted */\n",
       "  background-color: var(--sklearn-color-unfitted-level-0);\n",
       "}\n",
       "\n",
       "#sk-container-id-1 div.sk-toggleable__content.fitted {\n",
       "  /* fitted */\n",
       "  background-color: var(--sklearn-color-fitted-level-0);\n",
       "}\n",
       "\n",
       "#sk-container-id-1 div.sk-toggleable__content pre {\n",
       "  margin: 0.2em;\n",
       "  border-radius: 0.25em;\n",
       "  color: var(--sklearn-color-text);\n",
       "  /* unfitted */\n",
       "  background-color: var(--sklearn-color-unfitted-level-0);\n",
       "}\n",
       "\n",
       "#sk-container-id-1 div.sk-toggleable__content.fitted pre {\n",
       "  /* unfitted */\n",
       "  background-color: var(--sklearn-color-fitted-level-0);\n",
       "}\n",
       "\n",
       "#sk-container-id-1 input.sk-toggleable__control:checked~div.sk-toggleable__content {\n",
       "  /* Expand drop-down */\n",
       "  max-height: 200px;\n",
       "  max-width: 100%;\n",
       "  overflow: auto;\n",
       "}\n",
       "\n",
       "#sk-container-id-1 input.sk-toggleable__control:checked~label.sk-toggleable__label-arrow:before {\n",
       "  content: \"▾\";\n",
       "}\n",
       "\n",
       "/* Pipeline/ColumnTransformer-specific style */\n",
       "\n",
       "#sk-container-id-1 div.sk-label input.sk-toggleable__control:checked~label.sk-toggleable__label {\n",
       "  color: var(--sklearn-color-text);\n",
       "  background-color: var(--sklearn-color-unfitted-level-2);\n",
       "}\n",
       "\n",
       "#sk-container-id-1 div.sk-label.fitted input.sk-toggleable__control:checked~label.sk-toggleable__label {\n",
       "  background-color: var(--sklearn-color-fitted-level-2);\n",
       "}\n",
       "\n",
       "/* Estimator-specific style */\n",
       "\n",
       "/* Colorize estimator box */\n",
       "#sk-container-id-1 div.sk-estimator input.sk-toggleable__control:checked~label.sk-toggleable__label {\n",
       "  /* unfitted */\n",
       "  background-color: var(--sklearn-color-unfitted-level-2);\n",
       "}\n",
       "\n",
       "#sk-container-id-1 div.sk-estimator.fitted input.sk-toggleable__control:checked~label.sk-toggleable__label {\n",
       "  /* fitted */\n",
       "  background-color: var(--sklearn-color-fitted-level-2);\n",
       "}\n",
       "\n",
       "#sk-container-id-1 div.sk-label label.sk-toggleable__label,\n",
       "#sk-container-id-1 div.sk-label label {\n",
       "  /* The background is the default theme color */\n",
       "  color: var(--sklearn-color-text-on-default-background);\n",
       "}\n",
       "\n",
       "/* On hover, darken the color of the background */\n",
       "#sk-container-id-1 div.sk-label:hover label.sk-toggleable__label {\n",
       "  color: var(--sklearn-color-text);\n",
       "  background-color: var(--sklearn-color-unfitted-level-2);\n",
       "}\n",
       "\n",
       "/* Label box, darken color on hover, fitted */\n",
       "#sk-container-id-1 div.sk-label.fitted:hover label.sk-toggleable__label.fitted {\n",
       "  color: var(--sklearn-color-text);\n",
       "  background-color: var(--sklearn-color-fitted-level-2);\n",
       "}\n",
       "\n",
       "/* Estimator label */\n",
       "\n",
       "#sk-container-id-1 div.sk-label label {\n",
       "  font-family: monospace;\n",
       "  font-weight: bold;\n",
       "  display: inline-block;\n",
       "  line-height: 1.2em;\n",
       "}\n",
       "\n",
       "#sk-container-id-1 div.sk-label-container {\n",
       "  text-align: center;\n",
       "}\n",
       "\n",
       "/* Estimator-specific */\n",
       "#sk-container-id-1 div.sk-estimator {\n",
       "  font-family: monospace;\n",
       "  border: 1px dotted var(--sklearn-color-border-box);\n",
       "  border-radius: 0.25em;\n",
       "  box-sizing: border-box;\n",
       "  margin-bottom: 0.5em;\n",
       "  /* unfitted */\n",
       "  background-color: var(--sklearn-color-unfitted-level-0);\n",
       "}\n",
       "\n",
       "#sk-container-id-1 div.sk-estimator.fitted {\n",
       "  /* fitted */\n",
       "  background-color: var(--sklearn-color-fitted-level-0);\n",
       "}\n",
       "\n",
       "/* on hover */\n",
       "#sk-container-id-1 div.sk-estimator:hover {\n",
       "  /* unfitted */\n",
       "  background-color: var(--sklearn-color-unfitted-level-2);\n",
       "}\n",
       "\n",
       "#sk-container-id-1 div.sk-estimator.fitted:hover {\n",
       "  /* fitted */\n",
       "  background-color: var(--sklearn-color-fitted-level-2);\n",
       "}\n",
       "\n",
       "/* Specification for estimator info (e.g. \"i\" and \"?\") */\n",
       "\n",
       "/* Common style for \"i\" and \"?\" */\n",
       "\n",
       ".sk-estimator-doc-link,\n",
       "a:link.sk-estimator-doc-link,\n",
       "a:visited.sk-estimator-doc-link {\n",
       "  float: right;\n",
       "  font-size: smaller;\n",
       "  line-height: 1em;\n",
       "  font-family: monospace;\n",
       "  background-color: var(--sklearn-color-background);\n",
       "  border-radius: 1em;\n",
       "  height: 1em;\n",
       "  width: 1em;\n",
       "  text-decoration: none !important;\n",
       "  margin-left: 0.5em;\n",
       "  text-align: center;\n",
       "  /* unfitted */\n",
       "  border: var(--sklearn-color-unfitted-level-1) 1pt solid;\n",
       "  color: var(--sklearn-color-unfitted-level-1);\n",
       "}\n",
       "\n",
       ".sk-estimator-doc-link.fitted,\n",
       "a:link.sk-estimator-doc-link.fitted,\n",
       "a:visited.sk-estimator-doc-link.fitted {\n",
       "  /* fitted */\n",
       "  border: var(--sklearn-color-fitted-level-1) 1pt solid;\n",
       "  color: var(--sklearn-color-fitted-level-1);\n",
       "}\n",
       "\n",
       "/* On hover */\n",
       "div.sk-estimator:hover .sk-estimator-doc-link:hover,\n",
       ".sk-estimator-doc-link:hover,\n",
       "div.sk-label-container:hover .sk-estimator-doc-link:hover,\n",
       ".sk-estimator-doc-link:hover {\n",
       "  /* unfitted */\n",
       "  background-color: var(--sklearn-color-unfitted-level-3);\n",
       "  color: var(--sklearn-color-background);\n",
       "  text-decoration: none;\n",
       "}\n",
       "\n",
       "div.sk-estimator.fitted:hover .sk-estimator-doc-link.fitted:hover,\n",
       ".sk-estimator-doc-link.fitted:hover,\n",
       "div.sk-label-container:hover .sk-estimator-doc-link.fitted:hover,\n",
       ".sk-estimator-doc-link.fitted:hover {\n",
       "  /* fitted */\n",
       "  background-color: var(--sklearn-color-fitted-level-3);\n",
       "  color: var(--sklearn-color-background);\n",
       "  text-decoration: none;\n",
       "}\n",
       "\n",
       "/* Span, style for the box shown on hovering the info icon */\n",
       ".sk-estimator-doc-link span {\n",
       "  display: none;\n",
       "  z-index: 9999;\n",
       "  position: relative;\n",
       "  font-weight: normal;\n",
       "  right: .2ex;\n",
       "  padding: .5ex;\n",
       "  margin: .5ex;\n",
       "  width: min-content;\n",
       "  min-width: 20ex;\n",
       "  max-width: 50ex;\n",
       "  color: var(--sklearn-color-text);\n",
       "  box-shadow: 2pt 2pt 4pt #999;\n",
       "  /* unfitted */\n",
       "  background: var(--sklearn-color-unfitted-level-0);\n",
       "  border: .5pt solid var(--sklearn-color-unfitted-level-3);\n",
       "}\n",
       "\n",
       ".sk-estimator-doc-link.fitted span {\n",
       "  /* fitted */\n",
       "  background: var(--sklearn-color-fitted-level-0);\n",
       "  border: var(--sklearn-color-fitted-level-3);\n",
       "}\n",
       "\n",
       ".sk-estimator-doc-link:hover span {\n",
       "  display: block;\n",
       "}\n",
       "\n",
       "/* \"?\"-specific style due to the `<a>` HTML tag */\n",
       "\n",
       "#sk-container-id-1 a.estimator_doc_link {\n",
       "  float: right;\n",
       "  font-size: 1rem;\n",
       "  line-height: 1em;\n",
       "  font-family: monospace;\n",
       "  background-color: var(--sklearn-color-background);\n",
       "  border-radius: 1rem;\n",
       "  height: 1rem;\n",
       "  width: 1rem;\n",
       "  text-decoration: none;\n",
       "  /* unfitted */\n",
       "  color: var(--sklearn-color-unfitted-level-1);\n",
       "  border: var(--sklearn-color-unfitted-level-1) 1pt solid;\n",
       "}\n",
       "\n",
       "#sk-container-id-1 a.estimator_doc_link.fitted {\n",
       "  /* fitted */\n",
       "  border: var(--sklearn-color-fitted-level-1) 1pt solid;\n",
       "  color: var(--sklearn-color-fitted-level-1);\n",
       "}\n",
       "\n",
       "/* On hover */\n",
       "#sk-container-id-1 a.estimator_doc_link:hover {\n",
       "  /* unfitted */\n",
       "  background-color: var(--sklearn-color-unfitted-level-3);\n",
       "  color: var(--sklearn-color-background);\n",
       "  text-decoration: none;\n",
       "}\n",
       "\n",
       "#sk-container-id-1 a.estimator_doc_link.fitted:hover {\n",
       "  /* fitted */\n",
       "  background-color: var(--sklearn-color-fitted-level-3);\n",
       "}\n",
       "</style><div id=\"sk-container-id-1\" class=\"sk-top-container\"><div class=\"sk-text-repr-fallback\"><pre>LogisticRegression(C=20, max_iter=1000)</pre><b>In a Jupyter environment, please rerun this cell to show the HTML representation or trust the notebook. <br />On GitHub, the HTML representation is unable to render, please try loading this page with nbviewer.org.</b></div><div class=\"sk-container\" hidden><div class=\"sk-item\"><div class=\"sk-estimator  sk-toggleable\"><input class=\"sk-toggleable__control sk-hidden--visually\" id=\"sk-estimator-id-1\" type=\"checkbox\" checked><label for=\"sk-estimator-id-1\" class=\"sk-toggleable__label  sk-toggleable__label-arrow\"><div><div>LogisticRegression</div></div><div><a class=\"sk-estimator-doc-link \" rel=\"noreferrer\" target=\"_blank\" href=\"https://scikit-learn.org/1.6/modules/generated/sklearn.linear_model.LogisticRegression.html\">?<span>Documentation for LogisticRegression</span></a><span class=\"sk-estimator-doc-link \">i<span>Not fitted</span></span></div></label><div class=\"sk-toggleable__content \"><pre>LogisticRegression(C=20, max_iter=1000)</pre></div> </div></div></div></div>"
      ],
      "text/plain": [
       "LogisticRegression(C=20, max_iter=1000)"
      ]
     },
     "execution_count": 16,
     "metadata": {},
     "output_type": "execute_result"
    }
   ],
   "source": [
    "# 로지스틱 회귀 모델\n",
    "lr = LogisticRegression(C = 20, max_iter=1000)\n",
    "lr"
   ]
  },
  {
   "cell_type": "code",
   "execution_count": 17,
   "id": "00710c10",
   "metadata": {},
   "outputs": [
    {
     "name": "stderr",
     "output_type": "stream",
     "text": [
      "c:\\Source\\iot-dataanalysis-2025\\mlvenv\\Lib\\site-packages\\sklearn\\linear_model\\_logistic.py:465: ConvergenceWarning: lbfgs failed to converge (status=1):\n",
      "STOP: TOTAL NO. OF ITERATIONS REACHED LIMIT.\n",
      "\n",
      "Increase the number of iterations (max_iter) or scale the data as shown in:\n",
      "    https://scikit-learn.org/stable/modules/preprocessing.html\n",
      "Please also refer to the documentation for alternative solver options:\n",
      "    https://scikit-learn.org/stable/modules/linear_model.html#logistic-regression\n",
      "  n_iter_i = _check_optimize_result(\n"
     ]
    },
    {
     "data": {
      "text/html": [
       "<style>#sk-container-id-2 {\n",
       "  /* Definition of color scheme common for light and dark mode */\n",
       "  --sklearn-color-text: #000;\n",
       "  --sklearn-color-text-muted: #666;\n",
       "  --sklearn-color-line: gray;\n",
       "  /* Definition of color scheme for unfitted estimators */\n",
       "  --sklearn-color-unfitted-level-0: #fff5e6;\n",
       "  --sklearn-color-unfitted-level-1: #f6e4d2;\n",
       "  --sklearn-color-unfitted-level-2: #ffe0b3;\n",
       "  --sklearn-color-unfitted-level-3: chocolate;\n",
       "  /* Definition of color scheme for fitted estimators */\n",
       "  --sklearn-color-fitted-level-0: #f0f8ff;\n",
       "  --sklearn-color-fitted-level-1: #d4ebff;\n",
       "  --sklearn-color-fitted-level-2: #b3dbfd;\n",
       "  --sklearn-color-fitted-level-3: cornflowerblue;\n",
       "\n",
       "  /* Specific color for light theme */\n",
       "  --sklearn-color-text-on-default-background: var(--sg-text-color, var(--theme-code-foreground, var(--jp-content-font-color1, black)));\n",
       "  --sklearn-color-background: var(--sg-background-color, var(--theme-background, var(--jp-layout-color0, white)));\n",
       "  --sklearn-color-border-box: var(--sg-text-color, var(--theme-code-foreground, var(--jp-content-font-color1, black)));\n",
       "  --sklearn-color-icon: #696969;\n",
       "\n",
       "  @media (prefers-color-scheme: dark) {\n",
       "    /* Redefinition of color scheme for dark theme */\n",
       "    --sklearn-color-text-on-default-background: var(--sg-text-color, var(--theme-code-foreground, var(--jp-content-font-color1, white)));\n",
       "    --sklearn-color-background: var(--sg-background-color, var(--theme-background, var(--jp-layout-color0, #111)));\n",
       "    --sklearn-color-border-box: var(--sg-text-color, var(--theme-code-foreground, var(--jp-content-font-color1, white)));\n",
       "    --sklearn-color-icon: #878787;\n",
       "  }\n",
       "}\n",
       "\n",
       "#sk-container-id-2 {\n",
       "  color: var(--sklearn-color-text);\n",
       "}\n",
       "\n",
       "#sk-container-id-2 pre {\n",
       "  padding: 0;\n",
       "}\n",
       "\n",
       "#sk-container-id-2 input.sk-hidden--visually {\n",
       "  border: 0;\n",
       "  clip: rect(1px 1px 1px 1px);\n",
       "  clip: rect(1px, 1px, 1px, 1px);\n",
       "  height: 1px;\n",
       "  margin: -1px;\n",
       "  overflow: hidden;\n",
       "  padding: 0;\n",
       "  position: absolute;\n",
       "  width: 1px;\n",
       "}\n",
       "\n",
       "#sk-container-id-2 div.sk-dashed-wrapped {\n",
       "  border: 1px dashed var(--sklearn-color-line);\n",
       "  margin: 0 0.4em 0.5em 0.4em;\n",
       "  box-sizing: border-box;\n",
       "  padding-bottom: 0.4em;\n",
       "  background-color: var(--sklearn-color-background);\n",
       "}\n",
       "\n",
       "#sk-container-id-2 div.sk-container {\n",
       "  /* jupyter's `normalize.less` sets `[hidden] { display: none; }`\n",
       "     but bootstrap.min.css set `[hidden] { display: none !important; }`\n",
       "     so we also need the `!important` here to be able to override the\n",
       "     default hidden behavior on the sphinx rendered scikit-learn.org.\n",
       "     See: https://github.com/scikit-learn/scikit-learn/issues/21755 */\n",
       "  display: inline-block !important;\n",
       "  position: relative;\n",
       "}\n",
       "\n",
       "#sk-container-id-2 div.sk-text-repr-fallback {\n",
       "  display: none;\n",
       "}\n",
       "\n",
       "div.sk-parallel-item,\n",
       "div.sk-serial,\n",
       "div.sk-item {\n",
       "  /* draw centered vertical line to link estimators */\n",
       "  background-image: linear-gradient(var(--sklearn-color-text-on-default-background), var(--sklearn-color-text-on-default-background));\n",
       "  background-size: 2px 100%;\n",
       "  background-repeat: no-repeat;\n",
       "  background-position: center center;\n",
       "}\n",
       "\n",
       "/* Parallel-specific style estimator block */\n",
       "\n",
       "#sk-container-id-2 div.sk-parallel-item::after {\n",
       "  content: \"\";\n",
       "  width: 100%;\n",
       "  border-bottom: 2px solid var(--sklearn-color-text-on-default-background);\n",
       "  flex-grow: 1;\n",
       "}\n",
       "\n",
       "#sk-container-id-2 div.sk-parallel {\n",
       "  display: flex;\n",
       "  align-items: stretch;\n",
       "  justify-content: center;\n",
       "  background-color: var(--sklearn-color-background);\n",
       "  position: relative;\n",
       "}\n",
       "\n",
       "#sk-container-id-2 div.sk-parallel-item {\n",
       "  display: flex;\n",
       "  flex-direction: column;\n",
       "}\n",
       "\n",
       "#sk-container-id-2 div.sk-parallel-item:first-child::after {\n",
       "  align-self: flex-end;\n",
       "  width: 50%;\n",
       "}\n",
       "\n",
       "#sk-container-id-2 div.sk-parallel-item:last-child::after {\n",
       "  align-self: flex-start;\n",
       "  width: 50%;\n",
       "}\n",
       "\n",
       "#sk-container-id-2 div.sk-parallel-item:only-child::after {\n",
       "  width: 0;\n",
       "}\n",
       "\n",
       "/* Serial-specific style estimator block */\n",
       "\n",
       "#sk-container-id-2 div.sk-serial {\n",
       "  display: flex;\n",
       "  flex-direction: column;\n",
       "  align-items: center;\n",
       "  background-color: var(--sklearn-color-background);\n",
       "  padding-right: 1em;\n",
       "  padding-left: 1em;\n",
       "}\n",
       "\n",
       "\n",
       "/* Toggleable style: style used for estimator/Pipeline/ColumnTransformer box that is\n",
       "clickable and can be expanded/collapsed.\n",
       "- Pipeline and ColumnTransformer use this feature and define the default style\n",
       "- Estimators will overwrite some part of the style using the `sk-estimator` class\n",
       "*/\n",
       "\n",
       "/* Pipeline and ColumnTransformer style (default) */\n",
       "\n",
       "#sk-container-id-2 div.sk-toggleable {\n",
       "  /* Default theme specific background. It is overwritten whether we have a\n",
       "  specific estimator or a Pipeline/ColumnTransformer */\n",
       "  background-color: var(--sklearn-color-background);\n",
       "}\n",
       "\n",
       "/* Toggleable label */\n",
       "#sk-container-id-2 label.sk-toggleable__label {\n",
       "  cursor: pointer;\n",
       "  display: flex;\n",
       "  width: 100%;\n",
       "  margin-bottom: 0;\n",
       "  padding: 0.5em;\n",
       "  box-sizing: border-box;\n",
       "  text-align: center;\n",
       "  align-items: start;\n",
       "  justify-content: space-between;\n",
       "  gap: 0.5em;\n",
       "}\n",
       "\n",
       "#sk-container-id-2 label.sk-toggleable__label .caption {\n",
       "  font-size: 0.6rem;\n",
       "  font-weight: lighter;\n",
       "  color: var(--sklearn-color-text-muted);\n",
       "}\n",
       "\n",
       "#sk-container-id-2 label.sk-toggleable__label-arrow:before {\n",
       "  /* Arrow on the left of the label */\n",
       "  content: \"▸\";\n",
       "  float: left;\n",
       "  margin-right: 0.25em;\n",
       "  color: var(--sklearn-color-icon);\n",
       "}\n",
       "\n",
       "#sk-container-id-2 label.sk-toggleable__label-arrow:hover:before {\n",
       "  color: var(--sklearn-color-text);\n",
       "}\n",
       "\n",
       "/* Toggleable content - dropdown */\n",
       "\n",
       "#sk-container-id-2 div.sk-toggleable__content {\n",
       "  max-height: 0;\n",
       "  max-width: 0;\n",
       "  overflow: hidden;\n",
       "  text-align: left;\n",
       "  /* unfitted */\n",
       "  background-color: var(--sklearn-color-unfitted-level-0);\n",
       "}\n",
       "\n",
       "#sk-container-id-2 div.sk-toggleable__content.fitted {\n",
       "  /* fitted */\n",
       "  background-color: var(--sklearn-color-fitted-level-0);\n",
       "}\n",
       "\n",
       "#sk-container-id-2 div.sk-toggleable__content pre {\n",
       "  margin: 0.2em;\n",
       "  border-radius: 0.25em;\n",
       "  color: var(--sklearn-color-text);\n",
       "  /* unfitted */\n",
       "  background-color: var(--sklearn-color-unfitted-level-0);\n",
       "}\n",
       "\n",
       "#sk-container-id-2 div.sk-toggleable__content.fitted pre {\n",
       "  /* unfitted */\n",
       "  background-color: var(--sklearn-color-fitted-level-0);\n",
       "}\n",
       "\n",
       "#sk-container-id-2 input.sk-toggleable__control:checked~div.sk-toggleable__content {\n",
       "  /* Expand drop-down */\n",
       "  max-height: 200px;\n",
       "  max-width: 100%;\n",
       "  overflow: auto;\n",
       "}\n",
       "\n",
       "#sk-container-id-2 input.sk-toggleable__control:checked~label.sk-toggleable__label-arrow:before {\n",
       "  content: \"▾\";\n",
       "}\n",
       "\n",
       "/* Pipeline/ColumnTransformer-specific style */\n",
       "\n",
       "#sk-container-id-2 div.sk-label input.sk-toggleable__control:checked~label.sk-toggleable__label {\n",
       "  color: var(--sklearn-color-text);\n",
       "  background-color: var(--sklearn-color-unfitted-level-2);\n",
       "}\n",
       "\n",
       "#sk-container-id-2 div.sk-label.fitted input.sk-toggleable__control:checked~label.sk-toggleable__label {\n",
       "  background-color: var(--sklearn-color-fitted-level-2);\n",
       "}\n",
       "\n",
       "/* Estimator-specific style */\n",
       "\n",
       "/* Colorize estimator box */\n",
       "#sk-container-id-2 div.sk-estimator input.sk-toggleable__control:checked~label.sk-toggleable__label {\n",
       "  /* unfitted */\n",
       "  background-color: var(--sklearn-color-unfitted-level-2);\n",
       "}\n",
       "\n",
       "#sk-container-id-2 div.sk-estimator.fitted input.sk-toggleable__control:checked~label.sk-toggleable__label {\n",
       "  /* fitted */\n",
       "  background-color: var(--sklearn-color-fitted-level-2);\n",
       "}\n",
       "\n",
       "#sk-container-id-2 div.sk-label label.sk-toggleable__label,\n",
       "#sk-container-id-2 div.sk-label label {\n",
       "  /* The background is the default theme color */\n",
       "  color: var(--sklearn-color-text-on-default-background);\n",
       "}\n",
       "\n",
       "/* On hover, darken the color of the background */\n",
       "#sk-container-id-2 div.sk-label:hover label.sk-toggleable__label {\n",
       "  color: var(--sklearn-color-text);\n",
       "  background-color: var(--sklearn-color-unfitted-level-2);\n",
       "}\n",
       "\n",
       "/* Label box, darken color on hover, fitted */\n",
       "#sk-container-id-2 div.sk-label.fitted:hover label.sk-toggleable__label.fitted {\n",
       "  color: var(--sklearn-color-text);\n",
       "  background-color: var(--sklearn-color-fitted-level-2);\n",
       "}\n",
       "\n",
       "/* Estimator label */\n",
       "\n",
       "#sk-container-id-2 div.sk-label label {\n",
       "  font-family: monospace;\n",
       "  font-weight: bold;\n",
       "  display: inline-block;\n",
       "  line-height: 1.2em;\n",
       "}\n",
       "\n",
       "#sk-container-id-2 div.sk-label-container {\n",
       "  text-align: center;\n",
       "}\n",
       "\n",
       "/* Estimator-specific */\n",
       "#sk-container-id-2 div.sk-estimator {\n",
       "  font-family: monospace;\n",
       "  border: 1px dotted var(--sklearn-color-border-box);\n",
       "  border-radius: 0.25em;\n",
       "  box-sizing: border-box;\n",
       "  margin-bottom: 0.5em;\n",
       "  /* unfitted */\n",
       "  background-color: var(--sklearn-color-unfitted-level-0);\n",
       "}\n",
       "\n",
       "#sk-container-id-2 div.sk-estimator.fitted {\n",
       "  /* fitted */\n",
       "  background-color: var(--sklearn-color-fitted-level-0);\n",
       "}\n",
       "\n",
       "/* on hover */\n",
       "#sk-container-id-2 div.sk-estimator:hover {\n",
       "  /* unfitted */\n",
       "  background-color: var(--sklearn-color-unfitted-level-2);\n",
       "}\n",
       "\n",
       "#sk-container-id-2 div.sk-estimator.fitted:hover {\n",
       "  /* fitted */\n",
       "  background-color: var(--sklearn-color-fitted-level-2);\n",
       "}\n",
       "\n",
       "/* Specification for estimator info (e.g. \"i\" and \"?\") */\n",
       "\n",
       "/* Common style for \"i\" and \"?\" */\n",
       "\n",
       ".sk-estimator-doc-link,\n",
       "a:link.sk-estimator-doc-link,\n",
       "a:visited.sk-estimator-doc-link {\n",
       "  float: right;\n",
       "  font-size: smaller;\n",
       "  line-height: 1em;\n",
       "  font-family: monospace;\n",
       "  background-color: var(--sklearn-color-background);\n",
       "  border-radius: 1em;\n",
       "  height: 1em;\n",
       "  width: 1em;\n",
       "  text-decoration: none !important;\n",
       "  margin-left: 0.5em;\n",
       "  text-align: center;\n",
       "  /* unfitted */\n",
       "  border: var(--sklearn-color-unfitted-level-1) 1pt solid;\n",
       "  color: var(--sklearn-color-unfitted-level-1);\n",
       "}\n",
       "\n",
       ".sk-estimator-doc-link.fitted,\n",
       "a:link.sk-estimator-doc-link.fitted,\n",
       "a:visited.sk-estimator-doc-link.fitted {\n",
       "  /* fitted */\n",
       "  border: var(--sklearn-color-fitted-level-1) 1pt solid;\n",
       "  color: var(--sklearn-color-fitted-level-1);\n",
       "}\n",
       "\n",
       "/* On hover */\n",
       "div.sk-estimator:hover .sk-estimator-doc-link:hover,\n",
       ".sk-estimator-doc-link:hover,\n",
       "div.sk-label-container:hover .sk-estimator-doc-link:hover,\n",
       ".sk-estimator-doc-link:hover {\n",
       "  /* unfitted */\n",
       "  background-color: var(--sklearn-color-unfitted-level-3);\n",
       "  color: var(--sklearn-color-background);\n",
       "  text-decoration: none;\n",
       "}\n",
       "\n",
       "div.sk-estimator.fitted:hover .sk-estimator-doc-link.fitted:hover,\n",
       ".sk-estimator-doc-link.fitted:hover,\n",
       "div.sk-label-container:hover .sk-estimator-doc-link.fitted:hover,\n",
       ".sk-estimator-doc-link.fitted:hover {\n",
       "  /* fitted */\n",
       "  background-color: var(--sklearn-color-fitted-level-3);\n",
       "  color: var(--sklearn-color-background);\n",
       "  text-decoration: none;\n",
       "}\n",
       "\n",
       "/* Span, style for the box shown on hovering the info icon */\n",
       ".sk-estimator-doc-link span {\n",
       "  display: none;\n",
       "  z-index: 9999;\n",
       "  position: relative;\n",
       "  font-weight: normal;\n",
       "  right: .2ex;\n",
       "  padding: .5ex;\n",
       "  margin: .5ex;\n",
       "  width: min-content;\n",
       "  min-width: 20ex;\n",
       "  max-width: 50ex;\n",
       "  color: var(--sklearn-color-text);\n",
       "  box-shadow: 2pt 2pt 4pt #999;\n",
       "  /* unfitted */\n",
       "  background: var(--sklearn-color-unfitted-level-0);\n",
       "  border: .5pt solid var(--sklearn-color-unfitted-level-3);\n",
       "}\n",
       "\n",
       ".sk-estimator-doc-link.fitted span {\n",
       "  /* fitted */\n",
       "  background: var(--sklearn-color-fitted-level-0);\n",
       "  border: var(--sklearn-color-fitted-level-3);\n",
       "}\n",
       "\n",
       ".sk-estimator-doc-link:hover span {\n",
       "  display: block;\n",
       "}\n",
       "\n",
       "/* \"?\"-specific style due to the `<a>` HTML tag */\n",
       "\n",
       "#sk-container-id-2 a.estimator_doc_link {\n",
       "  float: right;\n",
       "  font-size: 1rem;\n",
       "  line-height: 1em;\n",
       "  font-family: monospace;\n",
       "  background-color: var(--sklearn-color-background);\n",
       "  border-radius: 1rem;\n",
       "  height: 1rem;\n",
       "  width: 1rem;\n",
       "  text-decoration: none;\n",
       "  /* unfitted */\n",
       "  color: var(--sklearn-color-unfitted-level-1);\n",
       "  border: var(--sklearn-color-unfitted-level-1) 1pt solid;\n",
       "}\n",
       "\n",
       "#sk-container-id-2 a.estimator_doc_link.fitted {\n",
       "  /* fitted */\n",
       "  border: var(--sklearn-color-fitted-level-1) 1pt solid;\n",
       "  color: var(--sklearn-color-fitted-level-1);\n",
       "}\n",
       "\n",
       "/* On hover */\n",
       "#sk-container-id-2 a.estimator_doc_link:hover {\n",
       "  /* unfitted */\n",
       "  background-color: var(--sklearn-color-unfitted-level-3);\n",
       "  color: var(--sklearn-color-background);\n",
       "  text-decoration: none;\n",
       "}\n",
       "\n",
       "#sk-container-id-2 a.estimator_doc_link.fitted:hover {\n",
       "  /* fitted */\n",
       "  background-color: var(--sklearn-color-fitted-level-3);\n",
       "}\n",
       "</style><div id=\"sk-container-id-2\" class=\"sk-top-container\"><div class=\"sk-text-repr-fallback\"><pre>LogisticRegression(C=20, max_iter=1000)</pre><b>In a Jupyter environment, please rerun this cell to show the HTML representation or trust the notebook. <br />On GitHub, the HTML representation is unable to render, please try loading this page with nbviewer.org.</b></div><div class=\"sk-container\" hidden><div class=\"sk-item\"><div class=\"sk-estimator fitted sk-toggleable\"><input class=\"sk-toggleable__control sk-hidden--visually\" id=\"sk-estimator-id-2\" type=\"checkbox\" checked><label for=\"sk-estimator-id-2\" class=\"sk-toggleable__label fitted sk-toggleable__label-arrow\"><div><div>LogisticRegression</div></div><div><a class=\"sk-estimator-doc-link fitted\" rel=\"noreferrer\" target=\"_blank\" href=\"https://scikit-learn.org/1.6/modules/generated/sklearn.linear_model.LogisticRegression.html\">?<span>Documentation for LogisticRegression</span></a><span class=\"sk-estimator-doc-link fitted\">i<span>Fitted</span></span></div></label><div class=\"sk-toggleable__content fitted\"><pre>LogisticRegression(C=20, max_iter=1000)</pre></div> </div></div></div></div>"
      ],
      "text/plain": [
       "LogisticRegression(C=20, max_iter=1000)"
      ]
     },
     "execution_count": 17,
     "metadata": {},
     "output_type": "execute_result"
    }
   ],
   "source": [
    "# 훈련\n",
    "lr.fit(train_scaled, train_target)"
   ]
  },
  {
   "cell_type": "code",
   "execution_count": 18,
   "id": "b2e02cee",
   "metadata": {},
   "outputs": [
    {
     "data": {
      "text/plain": [
       "0.8873"
      ]
     },
     "execution_count": 18,
     "metadata": {},
     "output_type": "execute_result"
    }
   ],
   "source": [
    "lr.score(train_scaled, train_target)"
   ]
  },
  {
   "cell_type": "code",
   "execution_count": 19,
   "id": "08992970",
   "metadata": {},
   "outputs": [
    {
     "data": {
      "text/plain": [
       "0.8309"
      ]
     },
     "execution_count": 19,
     "metadata": {},
     "output_type": "execute_result"
    }
   ],
   "source": [
    "# 정확도\n",
    "lr.score(test_scaled, test_target)"
   ]
  },
  {
   "cell_type": "code",
   "execution_count": 20,
   "id": "2d1d8182",
   "metadata": {},
   "outputs": [],
   "source": [
    "# 예측\n",
    "pred_result = lr.predict(test_scaled)"
   ]
  },
  {
   "cell_type": "code",
   "execution_count": 21,
   "id": "3b017d21",
   "metadata": {},
   "outputs": [],
   "source": [
    "# 테스트 이미지와 예측결과 시각화\n",
    "def show_image(index):\n",
    "    plt.figure(figsize=(2,2))\n",
    "    plt.imshow(test_input[index].reshape(28, 28), cmap='gray_r')\n",
    "    plt.title(f'실제: {test_target[index]}, 예측: {pred_result[index]}')\n",
    "    plt.axis('off')\n",
    "    plt.show()"
   ]
  },
  {
   "cell_type": "code",
   "execution_count": 22,
   "id": "aa7a1caa",
   "metadata": {},
   "outputs": [
    {
     "data": {
      "image/png": "[encoded data removed]",
      "text/plain": [
       "<Figure size 200x200 with 1 Axes>"
      ]
     },
     "metadata": {},
     "output_type": "display_data"
    },
    {
     "data": {
      "image/png": "[encoded data removed]",
      "text/plain": [
       "<Figure size 200x200 with 1 Axes>"
      ]
     },
     "metadata": {},
     "output_type": "display_data"
    },
    {
     "data": {
      "image/png": "[encoded data removed]",
      "text/plain": [
       "<Figure size 200x200 with 1 Axes>"
      ]
     },
     "metadata": {},
     "output_type": "display_data"
    },
    {
     "data": {
      "image/png": "[encoded data removed]",
      "text/plain": [
       "<Figure size 200x200 with 1 Axes>"
      ]
     },
     "metadata": {},
     "output_type": "display_data"
    },
    {
     "data": {
      "image/png": "[encoded data removed]",
      "text/plain": [
       "<Figure size 200x200 with 1 Axes>"
      ]
     },
     "metadata": {},
     "output_type": "display_data"
    },
    {
     "data": {
      "image/png": "[encoded data removed]",
      "text/plain": [
       "<Figure size 200x200 with 1 Axes>"
      ]
     },
     "metadata": {},
     "output_type": "display_data"
    }
   ],
   "source": [
    "for i in range(11, 17):\n",
    "    show_image(i)"
   ]
  },
  {
   "cell_type": "markdown",
   "id": "c5f904eb",
   "metadata": {},
   "source": [
    "- 여기까지 머신러닝으로 처리"
   ]
  },
  {
   "cell_type": "markdown",
   "id": "238da91a",
   "metadata": {},
   "source": [
    "#### 인공신경망\n",
    "\n",
    "- 인간의 뇌 속 뉴런과 유사한 구조로 만든 것\n",
    "- 인공신경망을 이용해서 머신러닝 훈련과 테스트, 예측 등을 수행하는 것\n",
    "- 인공지능 ⊃ 머신러닝 ⊃ 딥러닝(인공신경망)\n",
    "- 정확도가 높아서 딥러닝 가장 많이 사용(트렌드)\n",
    "\n",
    "<img src='../image/ml0010.png' width='700'>"
   ]
  },
  {
   "cell_type": "code",
   "execution_count": 23,
   "id": "ce4258e9",
   "metadata": {},
   "outputs": [],
   "source": [
    "# 텐서플로우 모듈 로드\n",
    "import tensorflow as tf\n",
    "from tensorflow import keras"
   ]
  },
  {
   "cell_type": "code",
   "execution_count": 24,
   "id": "b8add62f",
   "metadata": {},
   "outputs": [],
   "source": [
    "from sklearn.model_selection import train_test_split"
   ]
  },
  {
   "cell_type": "code",
   "execution_count": 25,
   "id": "cdf14e73",
   "metadata": {},
   "outputs": [],
   "source": [
    "# train_test_split() 함수로 기존 훈련세트를 훈련세트:검증세트 8:2로 분리\n",
    "train_scaled, val_scaled, train_target, val_target = train_test_split(\n",
    "    train_scaled, train_target, test_size=0.2, random_state=42\n",
    ")"
   ]
  },
  {
   "cell_type": "code",
   "execution_count": 26,
   "id": "9f81c6d6",
   "metadata": {},
   "outputs": [
    {
     "data": {
      "text/plain": [
       "(48000, 784)"
      ]
     },
     "execution_count": 26,
     "metadata": {},
     "output_type": "execute_result"
    }
   ],
   "source": [
    "train_scaled.shape"
   ]
  },
  {
   "cell_type": "markdown",
   "id": "85d64e89",
   "metadata": {},
   "source": [
    "- 기존 훈련 세트 -> 60000\n",
    "- 새 훈련 세트 -> 48000\n",
    "- 검증 세트 -> 12000"
   ]
  },
  {
   "cell_type": "markdown",
   "id": "f595dfbb",
   "metadata": {},
   "source": [
    "- 밀집층(Dense layer)\n",
    "    - 784픽셀(28*28)을 10개(분류된 아이템 개수) 뉴런을 연결하면 7840개 연결선이 만들어짐"
   ]
  },
  {
   "cell_type": "code",
   "execution_count": 27,
   "id": "dddb8889",
   "metadata": {},
   "outputs": [
    {
     "name": "stdout",
     "output_type": "stream",
     "text": [
      "WARNING:tensorflow:From c:\\Source\\iot-dataanalysis-2025\\mlvenv\\Lib\\site-packages\\keras\\src\\backend.py:873: The name tf.get_default_graph is deprecated. Please use tf.compat.v1.get_default_graph instead.\n",
      "\n"
     ]
    }
   ],
   "source": [
    "# 매개변수\n",
    "## 10 출력값(아이템 0~9)\n",
    "## activation 활성화함수 : softmax, sigmoid, ReLU...\n",
    "## 입력크기 : 28*28\n",
    "dense = keras.layers.Dense(10, activation='softmax', input_shape=(784, ))"
   ]
  },
  {
   "cell_type": "code",
   "execution_count": 28,
   "id": "6029caa8",
   "metadata": {},
   "outputs": [],
   "source": [
    "model = keras.Sequential(dense)"
   ]
  },
  {
   "cell_type": "code",
   "execution_count": 29,
   "id": "3cf3c4f4",
   "metadata": {},
   "outputs": [
    {
     "name": "stdout",
     "output_type": "stream",
     "text": [
      "WARNING:tensorflow:From c:\\Source\\iot-dataanalysis-2025\\mlvenv\\Lib\\site-packages\\keras\\src\\optimizers\\__init__.py:309: The name tf.train.Optimizer is deprecated. Please use tf.compat.v1.train.Optimizer instead.\n",
      "\n"
     ]
    }
   ],
   "source": [
    "# 훈련전 설정\n",
    "model.compile(loss='sparse_categorical_crossentropy', metrics='accuracy')"
   ]
  },
  {
   "cell_type": "code",
   "execution_count": 30,
   "id": "88125da0",
   "metadata": {},
   "outputs": [
    {
     "name": "stdout",
     "output_type": "stream",
     "text": [
      "Epoch 1/100\n",
      "WARNING:tensorflow:From c:\\Source\\iot-dataanalysis-2025\\mlvenv\\Lib\\site-packages\\keras\\src\\utils\\tf_utils.py:492: The name tf.ragged.RaggedTensorValue is deprecated. Please use tf.compat.v1.ragged.RaggedTensorValue instead.\n",
      "\n",
      "WARNING:tensorflow:From c:\\Source\\iot-dataanalysis-2025\\mlvenv\\Lib\\site-packages\\keras\\src\\engine\\base_layer_utils.py:384: The name tf.executing_eagerly_outside_functions is deprecated. Please use tf.compat.v1.executing_eagerly_outside_functions instead.\n",
      "\n",
      "1500/1500 [==============================] - 2s 768us/step - loss: 0.5514 - accuracy: 0.8134\n",
      "Epoch 2/100\n",
      "1500/1500 [==============================] - 1s 775us/step - loss: 0.4630 - accuracy: 0.8470\n",
      "Epoch 3/100\n",
      "1500/1500 [==============================] - 1s 813us/step - loss: 0.4494 - accuracy: 0.8510\n",
      "Epoch 4/100\n",
      "1500/1500 [==============================] - 1s 888us/step - loss: 0.4414 - accuracy: 0.8535\n",
      "Epoch 5/100\n",
      "1500/1500 [==============================] - 1s 788us/step - loss: 0.4360 - accuracy: 0.8563\n",
      "Epoch 6/100\n",
      "1500/1500 [==============================] - 1s 803us/step - loss: 0.4315 - accuracy: 0.8590\n",
      "Epoch 7/100\n",
      "1500/1500 [==============================] - 1s 762us/step - loss: 0.4283 - accuracy: 0.8595\n",
      "Epoch 8/100\n",
      "1500/1500 [==============================] - 1s 768us/step - loss: 0.4294 - accuracy: 0.8610\n",
      "Epoch 9/100\n",
      "1500/1500 [==============================] - 1s 744us/step - loss: 0.4261 - accuracy: 0.8596\n",
      "Epoch 10/100\n",
      "1500/1500 [==============================] - 1s 709us/step - loss: 0.4248 - accuracy: 0.8624\n",
      "Epoch 11/100\n",
      "1500/1500 [==============================] - 1s 712us/step - loss: 0.4246 - accuracy: 0.8611\n",
      "Epoch 12/100\n",
      "1500/1500 [==============================] - 1s 738us/step - loss: 0.4213 - accuracy: 0.8615\n",
      "Epoch 13/100\n",
      "1500/1500 [==============================] - 1s 702us/step - loss: 0.4219 - accuracy: 0.8626\n",
      "Epoch 14/100\n",
      "1500/1500 [==============================] - 1s 746us/step - loss: 0.4219 - accuracy: 0.8626\n",
      "Epoch 15/100\n",
      "1500/1500 [==============================] - 1s 767us/step - loss: 0.4197 - accuracy: 0.8622\n",
      "Epoch 16/100\n",
      "1500/1500 [==============================] - 1s 769us/step - loss: 0.4164 - accuracy: 0.8641\n",
      "Epoch 17/100\n",
      "1500/1500 [==============================] - 1s 768us/step - loss: 0.4182 - accuracy: 0.8629\n",
      "Epoch 18/100\n",
      "1500/1500 [==============================] - 1s 742us/step - loss: 0.4160 - accuracy: 0.8650\n",
      "Epoch 19/100\n",
      "1500/1500 [==============================] - 1s 791us/step - loss: 0.4177 - accuracy: 0.8641\n",
      "Epoch 20/100\n",
      "1500/1500 [==============================] - 1s 785us/step - loss: 0.4163 - accuracy: 0.8650\n",
      "Epoch 21/100\n",
      "1500/1500 [==============================] - 1s 781us/step - loss: 0.4176 - accuracy: 0.8656\n",
      "Epoch 22/100\n",
      "1500/1500 [==============================] - 1s 761us/step - loss: 0.4168 - accuracy: 0.8651\n",
      "Epoch 23/100\n",
      "1500/1500 [==============================] - 1s 753us/step - loss: 0.4156 - accuracy: 0.8660\n",
      "Epoch 24/100\n",
      "1500/1500 [==============================] - 1s 748us/step - loss: 0.4146 - accuracy: 0.8662\n",
      "Epoch 25/100\n",
      "1500/1500 [==============================] - 1s 730us/step - loss: 0.4154 - accuracy: 0.8652\n",
      "Epoch 26/100\n",
      "1500/1500 [==============================] - 1s 739us/step - loss: 0.4137 - accuracy: 0.8668\n",
      "Epoch 27/100\n",
      "1500/1500 [==============================] - 1s 733us/step - loss: 0.4147 - accuracy: 0.8658\n",
      "Epoch 28/100\n",
      "1500/1500 [==============================] - 1s 757us/step - loss: 0.4128 - accuracy: 0.8663\n",
      "Epoch 29/100\n",
      "1500/1500 [==============================] - 1s 703us/step - loss: 0.4127 - accuracy: 0.8660\n",
      "Epoch 30/100\n",
      "1500/1500 [==============================] - 1s 715us/step - loss: 0.4129 - accuracy: 0.8664\n",
      "Epoch 31/100\n",
      "1500/1500 [==============================] - 1s 717us/step - loss: 0.4118 - accuracy: 0.8675\n",
      "Epoch 32/100\n",
      "1500/1500 [==============================] - 1s 717us/step - loss: 0.4115 - accuracy: 0.8675\n",
      "Epoch 33/100\n",
      "1500/1500 [==============================] - 1s 720us/step - loss: 0.4115 - accuracy: 0.8675\n",
      "Epoch 34/100\n",
      "1500/1500 [==============================] - 1s 702us/step - loss: 0.4111 - accuracy: 0.8659\n",
      "Epoch 35/100\n",
      "1500/1500 [==============================] - 1s 719us/step - loss: 0.4113 - accuracy: 0.8678\n",
      "Epoch 36/100\n",
      "1500/1500 [==============================] - 1s 711us/step - loss: 0.4114 - accuracy: 0.8670\n",
      "Epoch 37/100\n",
      "1500/1500 [==============================] - 1s 699us/step - loss: 0.4108 - accuracy: 0.8687\n",
      "Epoch 38/100\n",
      "1500/1500 [==============================] - 1s 861us/step - loss: 0.4115 - accuracy: 0.8677\n",
      "Epoch 39/100\n",
      "1500/1500 [==============================] - 1s 854us/step - loss: 0.4099 - accuracy: 0.8678\n",
      "Epoch 40/100\n",
      "1500/1500 [==============================] - 1s 728us/step - loss: 0.4098 - accuracy: 0.8685\n",
      "Epoch 41/100\n",
      "1500/1500 [==============================] - 1s 739us/step - loss: 0.4089 - accuracy: 0.8692\n",
      "Epoch 42/100\n",
      "1500/1500 [==============================] - 1s 707us/step - loss: 0.4120 - accuracy: 0.8672\n",
      "Epoch 43/100\n",
      "1500/1500 [==============================] - 1s 707us/step - loss: 0.4095 - accuracy: 0.8694\n",
      "Epoch 44/100\n",
      "1500/1500 [==============================] - 1s 713us/step - loss: 0.4097 - accuracy: 0.8680\n",
      "Epoch 45/100\n",
      "1500/1500 [==============================] - 1s 702us/step - loss: 0.4118 - accuracy: 0.8684\n",
      "Epoch 46/100\n",
      "1500/1500 [==============================] - 1s 724us/step - loss: 0.4109 - accuracy: 0.8680\n",
      "Epoch 47/100\n",
      "1500/1500 [==============================] - 1s 713us/step - loss: 0.4103 - accuracy: 0.8679\n",
      "Epoch 48/100\n",
      "1500/1500 [==============================] - 1s 811us/step - loss: 0.4095 - accuracy: 0.8689\n",
      "Epoch 49/100\n",
      "1500/1500 [==============================] - 1s 740us/step - loss: 0.4093 - accuracy: 0.8686\n",
      "Epoch 50/100\n",
      "1500/1500 [==============================] - 1s 742us/step - loss: 0.4115 - accuracy: 0.8690\n",
      "Epoch 51/100\n",
      "1500/1500 [==============================] - 1s 717us/step - loss: 0.4083 - accuracy: 0.8686\n",
      "Epoch 52/100\n",
      "1500/1500 [==============================] - 1s 743us/step - loss: 0.4084 - accuracy: 0.8698\n",
      "Epoch 53/100\n",
      "1500/1500 [==============================] - 1s 736us/step - loss: 0.4085 - accuracy: 0.8695\n",
      "Epoch 54/100\n",
      "1500/1500 [==============================] - 1s 731us/step - loss: 0.4091 - accuracy: 0.8694\n",
      "Epoch 55/100\n",
      "1500/1500 [==============================] - 1s 705us/step - loss: 0.4082 - accuracy: 0.8696\n",
      "Epoch 56/100\n",
      "1500/1500 [==============================] - 1s 715us/step - loss: 0.4078 - accuracy: 0.8697\n",
      "Epoch 57/100\n",
      "1500/1500 [==============================] - 1s 715us/step - loss: 0.4095 - accuracy: 0.8693\n",
      "Epoch 58/100\n",
      "1500/1500 [==============================] - 1s 746us/step - loss: 0.4088 - accuracy: 0.8699\n",
      "Epoch 59/100\n",
      "1500/1500 [==============================] - 1s 707us/step - loss: 0.4074 - accuracy: 0.8700\n",
      "Epoch 60/100\n",
      "1500/1500 [==============================] - 1s 727us/step - loss: 0.4077 - accuracy: 0.8703\n",
      "Epoch 61/100\n",
      "1500/1500 [==============================] - 1s 717us/step - loss: 0.4092 - accuracy: 0.8692\n",
      "Epoch 62/100\n",
      "1500/1500 [==============================] - 1s 706us/step - loss: 0.4087 - accuracy: 0.8701\n",
      "Epoch 63/100\n",
      "1500/1500 [==============================] - 1s 711us/step - loss: 0.4085 - accuracy: 0.8695\n",
      "Epoch 64/100\n",
      "1500/1500 [==============================] - 1s 713us/step - loss: 0.4075 - accuracy: 0.8705\n",
      "Epoch 65/100\n",
      "1500/1500 [==============================] - 1s 700us/step - loss: 0.4074 - accuracy: 0.8704\n",
      "Epoch 66/100\n",
      "1500/1500 [==============================] - 1s 835us/step - loss: 0.4079 - accuracy: 0.8692\n",
      "Epoch 67/100\n",
      "1500/1500 [==============================] - 1s 777us/step - loss: 0.4071 - accuracy: 0.8701\n",
      "Epoch 68/100\n",
      "1500/1500 [==============================] - 1s 725us/step - loss: 0.4081 - accuracy: 0.8696\n",
      "Epoch 69/100\n",
      "1500/1500 [==============================] - 1s 732us/step - loss: 0.4081 - accuracy: 0.8702\n",
      "Epoch 70/100\n",
      "1500/1500 [==============================] - 1s 707us/step - loss: 0.4063 - accuracy: 0.8700\n",
      "Epoch 71/100\n",
      "1500/1500 [==============================] - 1s 697us/step - loss: 0.4072 - accuracy: 0.8695\n",
      "Epoch 72/100\n",
      "1500/1500 [==============================] - 1s 693us/step - loss: 0.4079 - accuracy: 0.8700\n",
      "Epoch 73/100\n",
      "1500/1500 [==============================] - 1s 696us/step - loss: 0.4065 - accuracy: 0.8702\n",
      "Epoch 74/100\n",
      "1500/1500 [==============================] - 1s 721us/step - loss: 0.4061 - accuracy: 0.8708\n",
      "Epoch 75/100\n",
      "1500/1500 [==============================] - 1s 700us/step - loss: 0.4065 - accuracy: 0.8687\n",
      "Epoch 76/100\n",
      "1500/1500 [==============================] - 1s 695us/step - loss: 0.4071 - accuracy: 0.8691\n",
      "Epoch 77/100\n",
      "1500/1500 [==============================] - 1s 715us/step - loss: 0.4070 - accuracy: 0.8711\n",
      "Epoch 78/100\n",
      "1500/1500 [==============================] - 1s 720us/step - loss: 0.4062 - accuracy: 0.8701\n",
      "Epoch 79/100\n",
      "1500/1500 [==============================] - 1s 700us/step - loss: 0.4082 - accuracy: 0.8700\n",
      "Epoch 80/100\n",
      "1500/1500 [==============================] - 1s 699us/step - loss: 0.4078 - accuracy: 0.8698\n",
      "Epoch 81/100\n",
      "1500/1500 [==============================] - 1s 718us/step - loss: 0.4061 - accuracy: 0.8710\n",
      "Epoch 82/100\n",
      "1500/1500 [==============================] - 1s 696us/step - loss: 0.4073 - accuracy: 0.8714\n",
      "Epoch 83/100\n",
      "1500/1500 [==============================] - 1s 701us/step - loss: 0.4060 - accuracy: 0.8710\n",
      "Epoch 84/100\n",
      "1500/1500 [==============================] - 1s 706us/step - loss: 0.4073 - accuracy: 0.8723\n",
      "Epoch 85/100\n",
      "1500/1500 [==============================] - 1s 698us/step - loss: 0.4078 - accuracy: 0.8704\n",
      "Epoch 86/100\n",
      "1500/1500 [==============================] - 1s 714us/step - loss: 0.4082 - accuracy: 0.8713\n",
      "Epoch 87/100\n",
      "1500/1500 [==============================] - 1s 712us/step - loss: 0.4081 - accuracy: 0.8711\n",
      "Epoch 88/100\n",
      "1500/1500 [==============================] - 1s 732us/step - loss: 0.4084 - accuracy: 0.8710\n",
      "Epoch 89/100\n",
      "1500/1500 [==============================] - 1s 713us/step - loss: 0.4077 - accuracy: 0.8709\n",
      "Epoch 90/100\n",
      "1500/1500 [==============================] - 1s 693us/step - loss: 0.4078 - accuracy: 0.8719\n",
      "Epoch 91/100\n",
      "1500/1500 [==============================] - 1s 706us/step - loss: 0.4083 - accuracy: 0.8699\n",
      "Epoch 92/100\n",
      "1500/1500 [==============================] - 1s 719us/step - loss: 0.4093 - accuracy: 0.8705\n",
      "Epoch 93/100\n",
      "1500/1500 [==============================] - 1s 704us/step - loss: 0.4096 - accuracy: 0.8701\n",
      "Epoch 94/100\n",
      "1500/1500 [==============================] - 1s 698us/step - loss: 0.4079 - accuracy: 0.8700\n",
      "Epoch 95/100\n",
      "1500/1500 [==============================] - 1s 708us/step - loss: 0.4091 - accuracy: 0.8708\n",
      "Epoch 96/100\n",
      "1500/1500 [==============================] - 1s 719us/step - loss: 0.4083 - accuracy: 0.8708\n",
      "Epoch 97/100\n",
      "1500/1500 [==============================] - 1s 739us/step - loss: 0.4086 - accuracy: 0.8710\n",
      "Epoch 98/100\n",
      "1500/1500 [==============================] - 1s 750us/step - loss: 0.4079 - accuracy: 0.8711\n",
      "Epoch 99/100\n",
      "1500/1500 [==============================] - 1s 709us/step - loss: 0.4075 - accuracy: 0.8714\n",
      "Epoch 100/100\n",
      "1500/1500 [==============================] - 1s 717us/step - loss: 0.4092 - accuracy: 0.8715\n"
     ]
    },
    {
     "data": {
      "text/plain": [
       "<keras.src.callbacks.History at 0x24c3f4a3bd0>"
      ]
     },
     "execution_count": 30,
     "metadata": {},
     "output_type": "execute_result"
    }
   ],
   "source": [
    "# 훈련\n",
    "model.fit(train_scaled, train_target, epochs=100)"
   ]
  },
  {
   "cell_type": "code",
   "execution_count": 31,
   "id": "2ebd08d8",
   "metadata": {},
   "outputs": [
    {
     "name": "stdout",
     "output_type": "stream",
     "text": [
      "375/375 [==============================] - 0s 738us/step - loss: 0.6448 - accuracy: 0.8378\n"
     ]
    },
    {
     "data": {
      "text/plain": [
       "[0.6448322534561157, 0.8378333449363708]"
      ]
     },
     "execution_count": 31,
     "metadata": {},
     "output_type": "execute_result"
    }
   ],
   "source": [
    "# 검증\n",
    "model.evaluate(val_scaled, val_target)"
   ]
  },
  {
   "cell_type": "markdown",
   "id": "bdd089e8",
   "metadata": {},
   "source": [
    "#### 결론\n",
    "- 딥러닝 : 인공신경망, 생물학적 뉴런에서 영감을 받아 만든 머신러닝 알고리즘\n",
    "    - 이미지, 음성, 텍스트, 영상 분야에 뛰어난 성능 발휘\n",
    "- 밀집층 : Dense Layer. 가장 간단한 인공신경망\n",
    "- 원-핫 인코딩 : 해당 요소만 1로 나머지는 0으로 변환하는 방식\n",
    "    - [1, 0, 0, 0, 0, 0, 0, 0, 0, 0] - 티셔츠\n",
    "    - [0, 0, 0, 0, 0, 0, 1, 0, 0, 0] - 스니커즈"
   ]
  },
  {
   "cell_type": "markdown",
   "id": "4483aa96",
   "metadata": {},
   "source": []
  }
 ],
 "metadata": {
  "kernelspec": {
   "display_name": "mlvenv",
   "language": "python",
   "name": "python3"
  },
  "language_info": {
   "codemirror_mode": {
    "name": "ipython",
    "version": 3
   },
   "file_extension": ".py",
   "mimetype": "text/x-python",
   "name": "python",
   "nbconvert_exporter": "python",
   "pygments_lexer": "ipython3",
   "version": "3.11.9"
  }
 },
 "nbformat": 4,
 "nbformat_minor": 5
}
