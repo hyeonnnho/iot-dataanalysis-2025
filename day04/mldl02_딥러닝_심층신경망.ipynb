{
 "cells": [
  {
   "cell_type": "markdown",
   "id": "14839f8f",
   "metadata": {},
   "source": [
    "## 딥러닝\n",
    "\n",
    "### 심층신경망"
   ]
  },
  {
   "cell_type": "code",
   "execution_count": 1,
   "id": "1d5a3fec",
   "metadata": {},
   "outputs": [
    {
     "name": "stdout",
     "output_type": "stream",
     "text": [
      "WARNING:tensorflow:From c:\\Source\\iot-dataanalysis-2025\\mlvenv\\Lib\\site-packages\\keras\\src\\losses.py:2976: The name tf.losses.sparse_softmax_cross_entropy is deprecated. Please use tf.compat.v1.losses.sparse_softmax_cross_entropy instead.\n",
      "\n"
     ]
    }
   ],
   "source": [
    "# 모듈 로드\n",
    "import tensorflow as tf\n",
    "from tensorflow import keras\n",
    "import numpy as np"
   ]
  },
  {
   "cell_type": "code",
   "execution_count": 2,
   "id": "f2492b53",
   "metadata": {},
   "outputs": [],
   "source": [
    "(train_input, train_target), (test_input, test_target) = keras.datasets.fashion_mnist.load_data()"
   ]
  },
  {
   "cell_type": "markdown",
   "id": "e94eb3d6",
   "metadata": {},
   "source": [
    "- 이미 이전장에서 다운로드 했기때문에 다시 다운로드 하지 않음"
   ]
  },
  {
   "cell_type": "code",
   "execution_count": 3,
   "id": "1b5653b2",
   "metadata": {},
   "outputs": [],
   "source": [
    "from sklearn.model_selection import train_test_split\n",
    "from sklearn.preprocessing import StandardScaler"
   ]
  },
  {
   "cell_type": "code",
   "execution_count": 4,
   "id": "8e854ef0",
   "metadata": {},
   "outputs": [],
   "source": [
    "train_input = train_input.reshape(-1, 28*28)\n",
    "test_input = test_input.reshape(-1, 28*28)"
   ]
  },
  {
   "cell_type": "code",
   "execution_count": 5,
   "id": "ccb057b9",
   "metadata": {},
   "outputs": [],
   "source": [
    "# 스케일링\n",
    "scaler = StandardScaler()\n",
    "train_scaled = scaler.fit_transform(train_input.astype(np.float64))\n",
    "test_scaled = scaler.transform(test_input.astype(np.float64))"
   ]
  },
  {
   "cell_type": "code",
   "execution_count": 6,
   "id": "17529aea",
   "metadata": {},
   "outputs": [],
   "source": [
    "# 훈련세트, 검증세트 분리\n",
    "train_scaled, val_scaled, train_target, val_target = train_test_split(\n",
    "    train_scaled, train_target, test_size=0.2, random_state=42\n",
    ")"
   ]
  },
  {
   "cell_type": "code",
   "execution_count": 7,
   "id": "bee95dcc",
   "metadata": {},
   "outputs": [
    {
     "name": "stdout",
     "output_type": "stream",
     "text": [
      "(48000, 784) (12000, 784) (10000, 784)\n",
      "(48000,) (12000,) (10000,)\n"
     ]
    }
   ],
   "source": [
    "print(train_scaled.shape, val_scaled.shape, test_scaled.shape)\n",
    "print(train_target.shape, val_target.shape, test_target.shape)"
   ]
  },
  {
   "cell_type": "markdown",
   "id": "ef2d5c65",
   "metadata": {},
   "source": [
    "##### 심층신경망 만들기1"
   ]
  },
  {
   "cell_type": "code",
   "execution_count": 8,
   "id": "3aac28f8",
   "metadata": {},
   "outputs": [],
   "source": [
    "# 밀집층 생성\n",
    "dense1 = keras.layers.Dense(100, activation='sigmoid', input_shape=(784,), name='hidden')\n",
    "dense2 = keras.layers.Dense(10, activation='softmax', name='output')"
   ]
  },
  {
   "cell_type": "code",
   "execution_count": 9,
   "id": "72fc720b",
   "metadata": {},
   "outputs": [
    {
     "name": "stdout",
     "output_type": "stream",
     "text": [
      "WARNING:tensorflow:From c:\\Source\\iot-dataanalysis-2025\\mlvenv\\Lib\\site-packages\\keras\\src\\backend.py:873: The name tf.get_default_graph is deprecated. Please use tf.compat.v1.get_default_graph instead.\n",
      "\n"
     ]
    }
   ],
   "source": [
    "# 신경망 모델 생성\n",
    "model = keras.Sequential([dense1, dense2])"
   ]
  },
  {
   "cell_type": "code",
   "execution_count": 10,
   "id": "d0a74d45",
   "metadata": {},
   "outputs": [
    {
     "name": "stdout",
     "output_type": "stream",
     "text": [
      "Model: \"sequential\"\n",
      "_________________________________________________________________\n",
      " Layer (type)                Output Shape              Param #   \n",
      "=================================================================\n",
      " hidden (Dense)              (None, 100)               78500     \n",
      "                                                                 \n",
      " output (Dense)              (None, 10)                1010      \n",
      "                                                                 \n",
      "=================================================================\n",
      "Total params: 79510 (310.59 KB)\n",
      "Trainable params: 79510 (310.59 KB)\n",
      "Non-trainable params: 0 (0.00 Byte)\n",
      "_________________________________________________________________\n"
     ]
    }
   ],
   "source": [
    "# 모델 요약\n",
    "model.summary()"
   ]
  },
  {
   "cell_type": "markdown",
   "id": "1a8cf752",
   "metadata": {},
   "source": [
    "#### 심층신경망 만들기2"
   ]
  },
  {
   "cell_type": "code",
   "execution_count": 11,
   "id": "51443b81",
   "metadata": {},
   "outputs": [],
   "source": [
    "model = keras.Sequential([\n",
    "    keras.layers.Dense(100, activation='sigmoid', input_shape=(784,), name='hidden'),\n",
    "    keras.layers.Dense(10, activation='softmax', name='output')\n",
    "], name='Fashion_MNIST_Model')"
   ]
  },
  {
   "cell_type": "code",
   "execution_count": 12,
   "id": "30d53ad6",
   "metadata": {},
   "outputs": [
    {
     "name": "stdout",
     "output_type": "stream",
     "text": [
      "Model: \"Fashion_MNIST_Model\"\n",
      "_________________________________________________________________\n",
      " Layer (type)                Output Shape              Param #   \n",
      "=================================================================\n",
      " hidden (Dense)              (None, 100)               78500     \n",
      "                                                                 \n",
      " output (Dense)              (None, 10)                1010      \n",
      "                                                                 \n",
      "=================================================================\n",
      "Total params: 79510 (310.59 KB)\n",
      "Trainable params: 79510 (310.59 KB)\n",
      "Non-trainable params: 0 (0.00 Byte)\n",
      "_________________________________________________________________\n"
     ]
    }
   ],
   "source": [
    "model.summary()"
   ]
  },
  {
   "cell_type": "code",
   "execution_count": 13,
   "id": "aa8c209a",
   "metadata": {},
   "outputs": [
    {
     "name": "stdout",
     "output_type": "stream",
     "text": [
      "WARNING:tensorflow:From c:\\Source\\iot-dataanalysis-2025\\mlvenv\\Lib\\site-packages\\keras\\src\\optimizers\\__init__.py:309: The name tf.train.Optimizer is deprecated. Please use tf.compat.v1.train.Optimizer instead.\n",
      "\n"
     ]
    }
   ],
   "source": [
    "# 모델 훈련전 설정\n",
    "model.compile(loss='sparse_categorical_crossentropy', metrics='accuracy')"
   ]
  },
  {
   "cell_type": "code",
   "execution_count": 14,
   "id": "6ac6edda",
   "metadata": {},
   "outputs": [
    {
     "name": "stdout",
     "output_type": "stream",
     "text": [
      "Epoch 1/100\n",
      "WARNING:tensorflow:From c:\\Source\\iot-dataanalysis-2025\\mlvenv\\Lib\\site-packages\\keras\\src\\utils\\tf_utils.py:492: The name tf.ragged.RaggedTensorValue is deprecated. Please use tf.compat.v1.ragged.RaggedTensorValue instead.\n",
      "\n",
      "WARNING:tensorflow:From c:\\Source\\iot-dataanalysis-2025\\mlvenv\\Lib\\site-packages\\keras\\src\\engine\\base_layer_utils.py:384: The name tf.executing_eagerly_outside_functions is deprecated. Please use tf.compat.v1.executing_eagerly_outside_functions instead.\n",
      "\n",
      "1500/1500 [==============================] - 2s 1ms/step - loss: 0.4717 - accuracy: 0.8344\n",
      "Epoch 2/100\n",
      "1500/1500 [==============================] - 2s 1ms/step - loss: 0.3567 - accuracy: 0.8741\n",
      "Epoch 3/100\n",
      "1500/1500 [==============================] - 2s 1ms/step - loss: 0.3208 - accuracy: 0.8853\n",
      "Epoch 4/100\n",
      "1500/1500 [==============================] - 2s 1ms/step - loss: 0.2955 - accuracy: 0.8946\n",
      "Epoch 5/100\n",
      "1500/1500 [==============================] - 2s 1ms/step - loss: 0.2758 - accuracy: 0.9011\n",
      "Epoch 6/100\n",
      "1500/1500 [==============================] - 2s 1ms/step - loss: 0.2594 - accuracy: 0.9076\n",
      "Epoch 7/100\n",
      "1500/1500 [==============================] - 2s 1ms/step - loss: 0.2444 - accuracy: 0.9127\n",
      "Epoch 8/100\n",
      "1500/1500 [==============================] - 1s 955us/step - loss: 0.2317 - accuracy: 0.9179\n",
      "Epoch 9/100\n",
      "1500/1500 [==============================] - 2s 1ms/step - loss: 0.2193 - accuracy: 0.9232\n",
      "Epoch 10/100\n",
      "1500/1500 [==============================] - 1s 965us/step - loss: 0.2087 - accuracy: 0.9262\n",
      "Epoch 11/100\n",
      "1500/1500 [==============================] - 2s 1ms/step - loss: 0.1980 - accuracy: 0.9314\n",
      "Epoch 12/100\n",
      "1500/1500 [==============================] - 1s 988us/step - loss: 0.1890 - accuracy: 0.9333\n",
      "Epoch 13/100\n",
      "1500/1500 [==============================] - 2s 1ms/step - loss: 0.1782 - accuracy: 0.9378\n",
      "Epoch 14/100\n",
      "1500/1500 [==============================] - 2s 1ms/step - loss: 0.1711 - accuracy: 0.9402\n",
      "Epoch 15/100\n",
      "1500/1500 [==============================] - 2s 1ms/step - loss: 0.1630 - accuracy: 0.9440\n",
      "Epoch 16/100\n",
      "1500/1500 [==============================] - 2s 1ms/step - loss: 0.1549 - accuracy: 0.9469\n",
      "Epoch 17/100\n",
      "1500/1500 [==============================] - 2s 1ms/step - loss: 0.1481 - accuracy: 0.9490\n",
      "Epoch 18/100\n",
      "1500/1500 [==============================] - 2s 1ms/step - loss: 0.1411 - accuracy: 0.9528\n",
      "Epoch 19/100\n",
      "1500/1500 [==============================] - 1s 997us/step - loss: 0.1343 - accuracy: 0.9551\n",
      "Epoch 20/100\n",
      "1500/1500 [==============================] - 2s 1ms/step - loss: 0.1285 - accuracy: 0.9574\n",
      "Epoch 21/100\n",
      "1500/1500 [==============================] - 2s 1ms/step - loss: 0.1229 - accuracy: 0.9591\n",
      "Epoch 22/100\n",
      "1500/1500 [==============================] - 2s 1ms/step - loss: 0.1164 - accuracy: 0.9611\n",
      "Epoch 23/100\n",
      "1500/1500 [==============================] - 2s 1ms/step - loss: 0.1110 - accuracy: 0.9635\n",
      "Epoch 24/100\n",
      "1500/1500 [==============================] - 2s 1ms/step - loss: 0.1062 - accuracy: 0.9651\n",
      "Epoch 25/100\n",
      "1500/1500 [==============================] - 2s 1ms/step - loss: 0.1012 - accuracy: 0.9672\n",
      "Epoch 26/100\n",
      "1500/1500 [==============================] - 2s 1ms/step - loss: 0.0964 - accuracy: 0.9679\n",
      "Epoch 27/100\n",
      "1500/1500 [==============================] - 2s 1ms/step - loss: 0.0919 - accuracy: 0.9706\n",
      "Epoch 28/100\n",
      "1500/1500 [==============================] - 2s 1ms/step - loss: 0.0881 - accuracy: 0.9718\n",
      "Epoch 29/100\n",
      "1500/1500 [==============================] - 2s 1ms/step - loss: 0.0841 - accuracy: 0.9730\n",
      "Epoch 30/100\n",
      "1500/1500 [==============================] - 2s 1ms/step - loss: 0.0798 - accuracy: 0.9745\n",
      "Epoch 31/100\n",
      "1500/1500 [==============================] - 2s 1ms/step - loss: 0.0760 - accuracy: 0.9767\n",
      "Epoch 32/100\n",
      "1500/1500 [==============================] - 2s 1ms/step - loss: 0.0729 - accuracy: 0.9771\n",
      "Epoch 33/100\n",
      "1500/1500 [==============================] - 2s 1ms/step - loss: 0.0684 - accuracy: 0.9787\n",
      "Epoch 34/100\n",
      "1500/1500 [==============================] - 2s 1ms/step - loss: 0.0659 - accuracy: 0.9798\n",
      "Epoch 35/100\n",
      "1500/1500 [==============================] - 2s 1ms/step - loss: 0.0639 - accuracy: 0.9804\n",
      "Epoch 36/100\n",
      "1500/1500 [==============================] - 2s 1ms/step - loss: 0.0600 - accuracy: 0.9821\n",
      "Epoch 37/100\n",
      "1500/1500 [==============================] - 2s 1ms/step - loss: 0.0569 - accuracy: 0.9836\n",
      "Epoch 38/100\n",
      "1500/1500 [==============================] - 3s 2ms/step - loss: 0.0548 - accuracy: 0.9837\n",
      "Epoch 39/100\n",
      "1500/1500 [==============================] - 2s 1ms/step - loss: 0.0525 - accuracy: 0.9845\n",
      "Epoch 40/100\n",
      "1500/1500 [==============================] - 2s 1ms/step - loss: 0.0506 - accuracy: 0.9856\n",
      "Epoch 41/100\n",
      "1500/1500 [==============================] - 2s 1ms/step - loss: 0.0475 - accuracy: 0.9863\n",
      "Epoch 42/100\n",
      "1500/1500 [==============================] - 2s 1ms/step - loss: 0.0450 - accuracy: 0.9868\n",
      "Epoch 43/100\n",
      "1500/1500 [==============================] - 2s 1ms/step - loss: 0.0442 - accuracy: 0.9874\n",
      "Epoch 44/100\n",
      "1500/1500 [==============================] - 2s 1ms/step - loss: 0.0403 - accuracy: 0.9887\n",
      "Epoch 45/100\n",
      "1500/1500 [==============================] - 2s 1ms/step - loss: 0.0392 - accuracy: 0.9890\n",
      "Epoch 46/100\n",
      "1500/1500 [==============================] - 2s 1ms/step - loss: 0.0375 - accuracy: 0.9898\n",
      "Epoch 47/100\n",
      "1500/1500 [==============================] - 2s 1ms/step - loss: 0.0363 - accuracy: 0.9902\n",
      "Epoch 48/100\n",
      "1500/1500 [==============================] - 2s 1ms/step - loss: 0.0344 - accuracy: 0.9905\n",
      "Epoch 49/100\n",
      "1500/1500 [==============================] - 2s 1ms/step - loss: 0.0332 - accuracy: 0.9911\n",
      "Epoch 50/100\n",
      "1500/1500 [==============================] - 2s 1ms/step - loss: 0.0307 - accuracy: 0.9916\n",
      "Epoch 51/100\n",
      "1500/1500 [==============================] - 2s 1ms/step - loss: 0.0298 - accuracy: 0.9922\n",
      "Epoch 52/100\n",
      "1500/1500 [==============================] - 2s 1ms/step - loss: 0.0277 - accuracy: 0.9927\n",
      "Epoch 53/100\n",
      "1500/1500 [==============================] - 2s 1ms/step - loss: 0.0274 - accuracy: 0.9925\n",
      "Epoch 54/100\n",
      "1500/1500 [==============================] - 2s 1ms/step - loss: 0.0262 - accuracy: 0.9930\n",
      "Epoch 55/100\n",
      "1500/1500 [==============================] - 2s 1ms/step - loss: 0.0242 - accuracy: 0.9936\n",
      "Epoch 56/100\n",
      "1500/1500 [==============================] - 2s 1ms/step - loss: 0.0230 - accuracy: 0.9938\n",
      "Epoch 57/100\n",
      "1500/1500 [==============================] - 2s 1ms/step - loss: 0.0217 - accuracy: 0.9939\n",
      "Epoch 58/100\n",
      "1500/1500 [==============================] - 2s 1ms/step - loss: 0.0206 - accuracy: 0.9951\n",
      "Epoch 59/100\n",
      "1500/1500 [==============================] - 2s 1ms/step - loss: 0.0201 - accuracy: 0.9947\n",
      "Epoch 60/100\n",
      "1500/1500 [==============================] - 2s 1ms/step - loss: 0.0184 - accuracy: 0.9954\n",
      "Epoch 61/100\n",
      "1500/1500 [==============================] - 2s 1ms/step - loss: 0.0174 - accuracy: 0.9952\n",
      "Epoch 62/100\n",
      "1500/1500 [==============================] - 2s 1ms/step - loss: 0.0174 - accuracy: 0.9955\n",
      "Epoch 63/100\n",
      "1500/1500 [==============================] - 2s 1ms/step - loss: 0.0161 - accuracy: 0.9962\n",
      "Epoch 64/100\n",
      "1500/1500 [==============================] - 2s 1ms/step - loss: 0.0153 - accuracy: 0.9966\n",
      "Epoch 65/100\n",
      "1500/1500 [==============================] - 2s 1ms/step - loss: 0.0146 - accuracy: 0.9964\n",
      "Epoch 66/100\n",
      "1500/1500 [==============================] - 2s 1ms/step - loss: 0.0137 - accuracy: 0.9966\n",
      "Epoch 67/100\n",
      "1500/1500 [==============================] - 2s 1ms/step - loss: 0.0133 - accuracy: 0.9967\n",
      "Epoch 68/100\n",
      "1500/1500 [==============================] - 2s 1ms/step - loss: 0.0126 - accuracy: 0.9970\n",
      "Epoch 69/100\n",
      "1500/1500 [==============================] - 2s 1ms/step - loss: 0.0121 - accuracy: 0.9969\n",
      "Epoch 70/100\n",
      "1500/1500 [==============================] - 2s 1ms/step - loss: 0.0114 - accuracy: 0.9971\n",
      "Epoch 71/100\n",
      "1500/1500 [==============================] - 2s 1ms/step - loss: 0.0098 - accuracy: 0.9978\n",
      "Epoch 72/100\n",
      "1500/1500 [==============================] - 2s 1ms/step - loss: 0.0099 - accuracy: 0.9977\n",
      "Epoch 73/100\n",
      "1500/1500 [==============================] - 2s 1ms/step - loss: 0.0096 - accuracy: 0.9979\n",
      "Epoch 74/100\n",
      "1500/1500 [==============================] - 2s 1ms/step - loss: 0.0094 - accuracy: 0.9978\n",
      "Epoch 75/100\n",
      "1500/1500 [==============================] - 2s 1ms/step - loss: 0.0081 - accuracy: 0.9982\n",
      "Epoch 76/100\n",
      "1500/1500 [==============================] - 2s 1ms/step - loss: 0.0080 - accuracy: 0.9982\n",
      "Epoch 77/100\n",
      "1500/1500 [==============================] - 2s 1ms/step - loss: 0.0078 - accuracy: 0.9982\n",
      "Epoch 78/100\n",
      "1500/1500 [==============================] - 2s 1ms/step - loss: 0.0072 - accuracy: 0.9985\n",
      "Epoch 79/100\n",
      "1500/1500 [==============================] - 2s 1ms/step - loss: 0.0064 - accuracy: 0.9987\n",
      "Epoch 80/100\n",
      "1500/1500 [==============================] - 2s 1ms/step - loss: 0.0064 - accuracy: 0.9986\n",
      "Epoch 81/100\n",
      "1500/1500 [==============================] - 2s 1ms/step - loss: 0.0058 - accuracy: 0.9987\n",
      "Epoch 82/100\n",
      "1500/1500 [==============================] - 2s 1ms/step - loss: 0.0053 - accuracy: 0.9989\n",
      "Epoch 83/100\n",
      "1500/1500 [==============================] - 2s 1ms/step - loss: 0.0052 - accuracy: 0.9989\n",
      "Epoch 84/100\n",
      "1500/1500 [==============================] - 2s 1ms/step - loss: 0.0046 - accuracy: 0.9990\n",
      "Epoch 85/100\n",
      "1500/1500 [==============================] - 2s 1ms/step - loss: 0.0047 - accuracy: 0.9989\n",
      "Epoch 86/100\n",
      "1500/1500 [==============================] - 2s 1ms/step - loss: 0.0039 - accuracy: 0.9992\n",
      "Epoch 87/100\n",
      "1500/1500 [==============================] - 2s 1ms/step - loss: 0.0040 - accuracy: 0.9991\n",
      "Epoch 88/100\n",
      "1500/1500 [==============================] - 2s 1ms/step - loss: 0.0034 - accuracy: 0.9994\n",
      "Epoch 89/100\n",
      "1500/1500 [==============================] - 2s 1ms/step - loss: 0.0031 - accuracy: 0.9994\n",
      "Epoch 90/100\n",
      "1500/1500 [==============================] - 2s 1ms/step - loss: 0.0032 - accuracy: 0.9993\n",
      "Epoch 91/100\n",
      "1500/1500 [==============================] - 2s 1ms/step - loss: 0.0029 - accuracy: 0.9994\n",
      "Epoch 92/100\n",
      "1500/1500 [==============================] - 2s 1ms/step - loss: 0.0027 - accuracy: 0.9995\n",
      "Epoch 93/100\n",
      "1500/1500 [==============================] - 2s 1ms/step - loss: 0.0022 - accuracy: 0.9995\n",
      "Epoch 94/100\n",
      "1500/1500 [==============================] - 2s 1ms/step - loss: 0.0019 - accuracy: 0.9997\n",
      "Epoch 95/100\n",
      "1500/1500 [==============================] - 2s 1ms/step - loss: 0.0016 - accuracy: 0.9998\n",
      "Epoch 96/100\n",
      "1500/1500 [==============================] - 2s 1ms/step - loss: 0.0013 - accuracy: 0.9998\n",
      "Epoch 97/100\n",
      "1500/1500 [==============================] - 2s 1ms/step - loss: 0.0012 - accuracy: 0.9998\n",
      "Epoch 98/100\n",
      "1500/1500 [==============================] - 2s 1ms/step - loss: 0.0012 - accuracy: 0.9998\n",
      "Epoch 99/100\n",
      "1500/1500 [==============================] - 2s 1ms/step - loss: 0.0012 - accuracy: 0.9998\n",
      "Epoch 100/100\n",
      "1500/1500 [==============================] - 2s 1ms/step - loss: 0.0011 - accuracy: 0.9998\n"
     ]
    },
    {
     "data": {
      "text/plain": [
       "<keras.src.callbacks.History at 0x258fb3af790>"
      ]
     },
     "execution_count": 14,
     "metadata": {},
     "output_type": "execute_result"
    }
   ],
   "source": [
    "# 훈련\n",
    "model.fit(train_scaled, train_target, epochs=100)"
   ]
  },
  {
   "cell_type": "code",
   "execution_count": 15,
   "id": "015eab96",
   "metadata": {},
   "outputs": [
    {
     "name": "stdout",
     "output_type": "stream",
     "text": [
      "375/375 [==============================] - 0s 976us/step - loss: 0.8600 - accuracy: 0.8753\n"
     ]
    },
    {
     "data": {
      "text/plain": [
       "[0.8600111603736877, 0.875333309173584]"
      ]
     },
     "execution_count": 15,
     "metadata": {},
     "output_type": "execute_result"
    }
   ],
   "source": [
    "model.evaluate(val_scaled, val_target)\n",
    "# 검증 정확도 : 87.8%"
   ]
  },
  {
   "cell_type": "code",
   "execution_count": 16,
   "id": "da470e82",
   "metadata": {},
   "outputs": [
    {
     "name": "stdout",
     "output_type": "stream",
     "text": [
      "313/313 [==============================] - 0s 878us/step\n"
     ]
    }
   ],
   "source": [
    "pred_result = model.predict(test_scaled)"
   ]
  },
  {
   "cell_type": "code",
   "execution_count": 17,
   "id": "eed383cd",
   "metadata": {},
   "outputs": [],
   "source": [
    "import matplotlib.pyplot as plt\n",
    "import seaborn as sns\n",
    "import numpy as np"
   ]
  },
  {
   "cell_type": "code",
   "execution_count": 18,
   "id": "45f6613a",
   "metadata": {},
   "outputs": [],
   "source": [
    "# 한글로 Matplotlib 사용시 항상 필요\n",
    "from matplotlib import rcParams, font_manager, rc\n",
    "\n",
    "font_path = 'C:/Windows/Fonts/malgun.ttf'\n",
    "font = font_manager.FontProperties(fname=font_path).get_name()\n",
    "rc('font', family=font)\n",
    "rcParams['axes.unicode_minus'] = False\n",
    "\n",
    "sns.set_style('darkgrid')\n",
    "sns.set_theme(font='Malgun Gothic', rc={'axes.unicode_minus': False})"
   ]
  },
  {
   "cell_type": "code",
   "execution_count": 19,
   "id": "73311489",
   "metadata": {},
   "outputs": [],
   "source": [
    "class_names = ['티셔츠', '바지', '스웨터', '드레스', '코트', '샌달', '셔츠', '스니커즈', '가방', '앵클부츠']"
   ]
  },
  {
   "cell_type": "code",
   "execution_count": 20,
   "id": "b9a89c14",
   "metadata": {},
   "outputs": [],
   "source": [
    "# 테스트이미지와 예측결과 시각화\n",
    "def show_image(index):\n",
    "    plt.figure(figsize=(2,2))\n",
    "    plt.imshow(test_input[index].reshape(28, 28), cmap='gray_r')\n",
    "    true_label = class_names[test_target[index]]\n",
    "    pred_label = class_names[np.argmax(pred_result[index])]\n",
    "\n",
    "    #plt.title(f'실제: {true_label}, 예측: {pred_label}')\n",
    "    plt.text(0, -6, f'실제: {true_label}', fontsize=12, color='blue')\n",
    "    plt.text(0, -3, f'예측: {pred_label}', fontsize=12, color='red', fontweight='bold')\n",
    "\n",
    "    plt.axis('off')\n",
    "    plt.show()"
   ]
  },
  {
   "cell_type": "code",
   "execution_count": 21,
   "id": "361ad8d4",
   "metadata": {},
   "outputs": [
    {
     "data": {
      "image/png": "[encoded data removed]",
      "text/plain": [
       "<Figure size 200x200 with 1 Axes>"
      ]
     },
     "metadata": {},
     "output_type": "display_data"
    },
    {
     "data": {
      "image/png": "[encoded data removed]",
      "text/plain": [
       "<Figure size 200x200 with 1 Axes>"
      ]
     },
     "metadata": {},
     "output_type": "display_data"
    },
    {
     "data": {
      "image/png": "[encoded data removed]",
      "text/plain": [
       "<Figure size 200x200 with 1 Axes>"
      ]
     },
     "metadata": {},
     "output_type": "display_data"
    }
   ],
   "source": [
    "for i in range(10,13):\n",
    "    show_image(i)"
   ]
  },
  {
   "cell_type": "markdown",
   "id": "55acde42",
   "metadata": {},
   "source": [
    "#### 렐루 함수\n",
    "\n",
    "- 인공신경망 은닉층에 초기에는 Sigmoid 함수 사용\n",
    "    - 단점 : 오른쪽, 왼쪽 끝으로 갈 수록 그래프가 누워있어서 올바른 출력을 못만듬\n",
    "\n",
    "- 렐루함수(ReLU) : 수정된 선형유닛 뜻의 함수\n",
    "\n",
    "    <img src=\"../image/ml0011.png\" width=\"500\">"
   ]
  },
  {
   "cell_type": "markdown",
   "id": "694ff699",
   "metadata": {},
   "source": [
    "#### Flatten 객체\n",
    "- 이미지 2차원배열을 1차원으로 변경할때 np.reshape() 사용\n",
    "- Flatten 클래스가 위의 일을 대신해줌"
   ]
  },
  {
   "cell_type": "code",
   "execution_count": 22,
   "id": "cc97d57c",
   "metadata": {},
   "outputs": [],
   "source": [
    "model2 = keras.Sequential([\n",
    "    keras.layers.Flatten(input_shape=(28, 28), name='flatten'),\n",
    "    keras.layers.Dense(100, activation='relu', name='hidden'),\n",
    "    keras.layers.Dense(10, activation='softmax', name='output')\n",
    "], name='Fashion_MNIST_RELU')"
   ]
  },
  {
   "cell_type": "code",
   "execution_count": 23,
   "id": "5f6999cd",
   "metadata": {},
   "outputs": [
    {
     "name": "stdout",
     "output_type": "stream",
     "text": [
      "Model: \"Fashion_MNIST_RELU\"\n",
      "_________________________________________________________________\n",
      " Layer (type)                Output Shape              Param #   \n",
      "=================================================================\n",
      " flatten (Flatten)           (None, 784)               0         \n",
      "                                                                 \n",
      " hidden (Dense)              (None, 100)               78500     \n",
      "                                                                 \n",
      " output (Dense)              (None, 10)                1010      \n",
      "                                                                 \n",
      "=================================================================\n",
      "Total params: 79510 (310.59 KB)\n",
      "Trainable params: 79510 (310.59 KB)\n",
      "Non-trainable params: 0 (0.00 Byte)\n",
      "_________________________________________________________________\n"
     ]
    }
   ],
   "source": [
    "model2.summary()"
   ]
  },
  {
   "cell_type": "code",
   "execution_count": 24,
   "id": "932d55a2",
   "metadata": {},
   "outputs": [],
   "source": [
    "(train_input, train_target), (test_input, test_target) = keras.datasets.fashion_mnist.load_data()"
   ]
  },
  {
   "cell_type": "code",
   "execution_count": 25,
   "id": "ac0e7071",
   "metadata": {},
   "outputs": [],
   "source": [
    "train_scaled = train_input / 255.0\n",
    "test_scaled = test_input / 255.0"
   ]
  },
  {
   "cell_type": "code",
   "execution_count": 26,
   "id": "894bf51c",
   "metadata": {},
   "outputs": [],
   "source": [
    "# 훈련세트, 검증세트 분리\n",
    "train_scaled, val_scaled, train_target, val_target = train_test_split(\n",
    "    train_scaled, train_target, test_size=0.2, random_state=42\n",
    ")"
   ]
  },
  {
   "cell_type": "code",
   "execution_count": 27,
   "id": "4a65cf15",
   "metadata": {},
   "outputs": [],
   "source": [
    "# 모델 설정\n",
    "model2.compile(loss='sparse_categorical_crossentropy', metrics='accuracy')"
   ]
  },
  {
   "cell_type": "code",
   "execution_count": 28,
   "id": "212088a0",
   "metadata": {},
   "outputs": [
    {
     "name": "stdout",
     "output_type": "stream",
     "text": [
      "Epoch 1/20\n",
      "1500/1500 [==============================] - 2s 1ms/step - loss: 0.5304 - accuracy: 0.8132\n",
      "Epoch 2/20\n",
      "1500/1500 [==============================] - 2s 1ms/step - loss: 0.3922 - accuracy: 0.8587\n",
      "Epoch 3/20\n",
      "1500/1500 [==============================] - 2s 1ms/step - loss: 0.3553 - accuracy: 0.8719\n",
      "Epoch 4/20\n",
      "1500/1500 [==============================] - 2s 1ms/step - loss: 0.3316 - accuracy: 0.8803\n",
      "Epoch 5/20\n",
      "1500/1500 [==============================] - 2s 1ms/step - loss: 0.3181 - accuracy: 0.8856\n",
      "Epoch 6/20\n",
      "1500/1500 [==============================] - 2s 1ms/step - loss: 0.3062 - accuracy: 0.8906\n",
      "Epoch 7/20\n",
      "1500/1500 [==============================] - 2s 1ms/step - loss: 0.2947 - accuracy: 0.8942\n",
      "Epoch 8/20\n",
      "1500/1500 [==============================] - 2s 1ms/step - loss: 0.2854 - accuracy: 0.8975\n",
      "Epoch 9/20\n",
      "1500/1500 [==============================] - 2s 1ms/step - loss: 0.2802 - accuracy: 0.8997\n",
      "Epoch 10/20\n",
      "1500/1500 [==============================] - 2s 1ms/step - loss: 0.2742 - accuracy: 0.9020\n",
      "Epoch 11/20\n",
      "1500/1500 [==============================] - 2s 1ms/step - loss: 0.2664 - accuracy: 0.9048\n",
      "Epoch 12/20\n",
      "1500/1500 [==============================] - 2s 1ms/step - loss: 0.2606 - accuracy: 0.9081\n",
      "Epoch 13/20\n",
      "1500/1500 [==============================] - 2s 1ms/step - loss: 0.2569 - accuracy: 0.9091\n",
      "Epoch 14/20\n",
      "1500/1500 [==============================] - 2s 1ms/step - loss: 0.2523 - accuracy: 0.9106\n",
      "Epoch 15/20\n",
      "1500/1500 [==============================] - 2s 1ms/step - loss: 0.2454 - accuracy: 0.9133\n",
      "Epoch 16/20\n",
      "1500/1500 [==============================] - 2s 1ms/step - loss: 0.2440 - accuracy: 0.9143\n",
      "Epoch 17/20\n",
      "1500/1500 [==============================] - 2s 1ms/step - loss: 0.2394 - accuracy: 0.9155\n",
      "Epoch 18/20\n",
      "1500/1500 [==============================] - 2s 1ms/step - loss: 0.2330 - accuracy: 0.9190\n",
      "Epoch 19/20\n",
      "1500/1500 [==============================] - 2s 1ms/step - loss: 0.2315 - accuracy: 0.9193\n",
      "Epoch 20/20\n",
      "1500/1500 [==============================] - 2s 1ms/step - loss: 0.2278 - accuracy: 0.9196\n"
     ]
    },
    {
     "data": {
      "text/plain": [
       "<keras.src.callbacks.History at 0x258ff284710>"
      ]
     },
     "execution_count": 28,
     "metadata": {},
     "output_type": "execute_result"
    }
   ],
   "source": [
    "# 모델 훈련\n",
    "model2.fit(train_scaled, train_target, epochs=20)"
   ]
  },
  {
   "cell_type": "code",
   "execution_count": 29,
   "id": "b92a4cfa",
   "metadata": {},
   "outputs": [
    {
     "name": "stdout",
     "output_type": "stream",
     "text": [
      "375/375 [==============================] - 0s 829us/step - loss: 0.4122 - accuracy: 0.8853\n"
     ]
    },
    {
     "data": {
      "text/plain": [
       "[0.4122423827648163, 0.8853333592414856]"
      ]
     },
     "execution_count": 29,
     "metadata": {},
     "output_type": "execute_result"
    }
   ],
   "source": [
    "model2.evaluate(val_scaled, val_target)\n",
    "# ReLU함수 사용시, Sigmoid함수 사용시 0.01% 개선"
   ]
  },
  {
   "cell_type": "markdown",
   "id": "176e3d9e",
   "metadata": {},
   "source": [
    "#### 옵티마이저\n",
    "- 하이퍼파라미터 값 최적화"
   ]
  },
  {
   "cell_type": "code",
   "execution_count": 30,
   "id": "ccbd4661",
   "metadata": {},
   "outputs": [],
   "source": [
    "model3 = keras.Sequential([\n",
    "    keras.layers.Flatten(input_shape=(28, 28), name='flatten'),\n",
    "    keras.layers.Dense(100, activation='relu', name='hidden'),\n",
    "    keras.layers.Dense(10, activation='softmax', name='output')\n",
    "], name='Fashion_MNIST_RELU')"
   ]
  },
  {
   "cell_type": "code",
   "execution_count": 31,
   "id": "f0159844",
   "metadata": {},
   "outputs": [],
   "source": [
    "# 모델3 설정, 최적화는 adam클래스만 사용할 것\n",
    "model3.compile(loss='sparse_categorical_crossentropy', metrics='accuracy', optimizer='adam')"
   ]
  },
  {
   "cell_type": "code",
   "execution_count": 32,
   "id": "bc9d74fc",
   "metadata": {},
   "outputs": [
    {
     "name": "stdout",
     "output_type": "stream",
     "text": [
      "Epoch 1/20\n",
      "1500/1500 [==============================] - 2s 1ms/step - loss: 0.5211 - accuracy: 0.8166\n",
      "Epoch 2/20\n",
      "1500/1500 [==============================] - 2s 1ms/step - loss: 0.3921 - accuracy: 0.8583\n",
      "Epoch 3/20\n",
      "1500/1500 [==============================] - 2s 1ms/step - loss: 0.3502 - accuracy: 0.8743\n",
      "Epoch 4/20\n",
      "1500/1500 [==============================] - 2s 1ms/step - loss: 0.3265 - accuracy: 0.8814\n",
      "Epoch 5/20\n",
      "1500/1500 [==============================] - 2s 1ms/step - loss: 0.3067 - accuracy: 0.8878\n",
      "Epoch 6/20\n",
      "1500/1500 [==============================] - 2s 1ms/step - loss: 0.2914 - accuracy: 0.8916\n",
      "Epoch 7/20\n",
      "1500/1500 [==============================] - 2s 1ms/step - loss: 0.2792 - accuracy: 0.8954\n",
      "Epoch 8/20\n",
      "1500/1500 [==============================] - 2s 1ms/step - loss: 0.2673 - accuracy: 0.9005\n",
      "Epoch 9/20\n",
      "1500/1500 [==============================] - 2s 1ms/step - loss: 0.2578 - accuracy: 0.9036\n",
      "Epoch 10/20\n",
      "1500/1500 [==============================] - 2s 1ms/step - loss: 0.2474 - accuracy: 0.9076\n",
      "Epoch 11/20\n",
      "1500/1500 [==============================] - 2s 1ms/step - loss: 0.2402 - accuracy: 0.9118\n",
      "Epoch 12/20\n",
      "1500/1500 [==============================] - 2s 1ms/step - loss: 0.2331 - accuracy: 0.9117\n",
      "Epoch 13/20\n",
      "1500/1500 [==============================] - 2s 1ms/step - loss: 0.2245 - accuracy: 0.9171\n",
      "Epoch 14/20\n",
      "1500/1500 [==============================] - 2s 1ms/step - loss: 0.2176 - accuracy: 0.9197\n",
      "Epoch 15/20\n",
      "1500/1500 [==============================] - 2s 1ms/step - loss: 0.2126 - accuracy: 0.9206\n",
      "Epoch 16/20\n",
      "1500/1500 [==============================] - 2s 1ms/step - loss: 0.2077 - accuracy: 0.9232\n",
      "Epoch 17/20\n",
      "1500/1500 [==============================] - 2s 1ms/step - loss: 0.2019 - accuracy: 0.9245\n",
      "Epoch 18/20\n",
      "1500/1500 [==============================] - 2s 1ms/step - loss: 0.1957 - accuracy: 0.9259\n",
      "Epoch 19/20\n",
      "1500/1500 [==============================] - 2s 1ms/step - loss: 0.1927 - accuracy: 0.9273\n",
      "Epoch 20/20\n",
      "1500/1500 [==============================] - 2s 1ms/step - loss: 0.1850 - accuracy: 0.9302\n"
     ]
    },
    {
     "data": {
      "text/plain": [
       "<keras.src.callbacks.History at 0x258f7c83d50>"
      ]
     },
     "execution_count": 32,
     "metadata": {},
     "output_type": "execute_result"
    }
   ],
   "source": [
    "# 모델 훈련. 모델훈련은 정보를 저장하기 때문에 다시 수행하면 이전 정보를 담고 시작\n",
    "model3.fit(train_scaled, train_target, epochs=20)"
   ]
  },
  {
   "cell_type": "markdown",
   "id": "b9b39476",
   "metadata": {},
   "source": [
    "- optimizer 사용시 0.01정도 개선"
   ]
  },
  {
   "cell_type": "code",
   "execution_count": 33,
   "id": "c0a5b0b2",
   "metadata": {},
   "outputs": [
    {
     "name": "stdout",
     "output_type": "stream",
     "text": [
      "375/375 [==============================] - 0s 883us/step - loss: 0.3655 - accuracy: 0.8842\n"
     ]
    },
    {
     "data": {
      "text/plain": [
       "[0.3655061721801758, 0.8841666579246521]"
      ]
     },
     "execution_count": 33,
     "metadata": {},
     "output_type": "execute_result"
    }
   ],
   "source": [
    "model3.evaluate(val_scaled, val_target)\n",
    "# 훈련 95%, 검증 88% - 7정도 차이"
   ]
  },
  {
   "cell_type": "markdown",
   "id": "6b0e1809",
   "metadata": {},
   "source": [
    "#### 드롭아웃\n",
    "- 훈련과정 밀집층에 일부 뉴런을 꺼버림. "
   ]
  },
  {
   "cell_type": "code",
   "execution_count": 34,
   "id": "51c792d7",
   "metadata": {},
   "outputs": [],
   "source": [
    "model4 = keras.Sequential([\n",
    "    keras.layers.Flatten(input_shape=(28, 28), name='flatten'),\n",
    "    keras.layers.Dense(100, activation='relu', name='hidden'),\n",
    "    keras.layers.Dropout(0.3, name='dropout'), \n",
    "    keras.layers.Dense(10, activation='softmax', name='output')\n",
    "], name='Fashion_MNIST_RELU')"
   ]
  },
  {
   "cell_type": "code",
   "execution_count": 35,
   "id": "9b3f779a",
   "metadata": {},
   "outputs": [
    {
     "name": "stdout",
     "output_type": "stream",
     "text": [
      "Model: \"Fashion_MNIST_RELU\"\n",
      "_________________________________________________________________\n",
      " Layer (type)                Output Shape              Param #   \n",
      "=================================================================\n",
      " flatten (Flatten)           (None, 784)               0         \n",
      "                                                                 \n",
      " hidden (Dense)              (None, 100)               78500     \n",
      "                                                                 \n",
      " dropout (Dropout)           (None, 100)               0         \n",
      "                                                                 \n",
      " output (Dense)              (None, 10)                1010      \n",
      "                                                                 \n",
      "=================================================================\n",
      "Total params: 79510 (310.59 KB)\n",
      "Trainable params: 79510 (310.59 KB)\n",
      "Non-trainable params: 0 (0.00 Byte)\n",
      "_________________________________________________________________\n"
     ]
    }
   ],
   "source": [
    "model4.summary()"
   ]
  },
  {
   "cell_type": "code",
   "execution_count": 36,
   "id": "8a2f4a51",
   "metadata": {},
   "outputs": [],
   "source": [
    "# 모델4 설정, 최적화는 adam클래스만 사용할 것\n",
    "model4.compile(loss='sparse_categorical_crossentropy', metrics='accuracy', optimizer='adam')"
   ]
  },
  {
   "cell_type": "code",
   "execution_count": 37,
   "id": "1311d72d",
   "metadata": {},
   "outputs": [
    {
     "name": "stdout",
     "output_type": "stream",
     "text": [
      "Epoch 1/20\n",
      "1500/1500 [==============================] - 2s 1ms/step - loss: 0.5965 - accuracy: 0.7910\n",
      "Epoch 2/20\n",
      "1500/1500 [==============================] - 2s 1ms/step - loss: 0.4421 - accuracy: 0.8396\n",
      "Epoch 3/20\n",
      "1500/1500 [==============================] - 2s 1ms/step - loss: 0.4049 - accuracy: 0.8524\n",
      "Epoch 4/20\n",
      "1500/1500 [==============================] - 2s 1ms/step - loss: 0.3842 - accuracy: 0.8610\n",
      "Epoch 5/20\n",
      "1500/1500 [==============================] - 2s 1ms/step - loss: 0.3679 - accuracy: 0.8655\n",
      "Epoch 6/20\n",
      "1500/1500 [==============================] - 2s 1ms/step - loss: 0.3542 - accuracy: 0.8696\n",
      "Epoch 7/20\n",
      "1500/1500 [==============================] - 2s 1ms/step - loss: 0.3451 - accuracy: 0.8723\n",
      "Epoch 8/20\n",
      "1500/1500 [==============================] - 2s 1ms/step - loss: 0.3368 - accuracy: 0.8770\n",
      "Epoch 9/20\n",
      "1500/1500 [==============================] - 2s 2ms/step - loss: 0.3299 - accuracy: 0.8793\n",
      "Epoch 10/20\n",
      "1500/1500 [==============================] - 2s 1ms/step - loss: 0.3214 - accuracy: 0.8810\n",
      "Epoch 11/20\n",
      "1500/1500 [==============================] - 3s 2ms/step - loss: 0.3158 - accuracy: 0.8835\n",
      "Epoch 12/20\n",
      "1500/1500 [==============================] - 2s 2ms/step - loss: 0.3105 - accuracy: 0.8839\n",
      "Epoch 13/20\n",
      "1500/1500 [==============================] - 2s 2ms/step - loss: 0.3043 - accuracy: 0.8874\n",
      "Epoch 14/20\n",
      "1500/1500 [==============================] - 2s 1ms/step - loss: 0.3003 - accuracy: 0.8872\n",
      "Epoch 15/20\n",
      "1500/1500 [==============================] - 2s 1ms/step - loss: 0.2928 - accuracy: 0.8914\n",
      "Epoch 16/20\n",
      "1500/1500 [==============================] - 2s 1ms/step - loss: 0.2927 - accuracy: 0.8917\n",
      "Epoch 17/20\n",
      "1500/1500 [==============================] - 2s 1ms/step - loss: 0.2875 - accuracy: 0.8926\n",
      "Epoch 18/20\n",
      "1500/1500 [==============================] - 2s 1ms/step - loss: 0.2868 - accuracy: 0.8921\n",
      "Epoch 19/20\n",
      "1500/1500 [==============================] - 2s 1ms/step - loss: 0.2796 - accuracy: 0.8968\n",
      "Epoch 20/20\n",
      "1500/1500 [==============================] - 2s 1ms/step - loss: 0.2780 - accuracy: 0.8946\n"
     ]
    },
    {
     "data": {
      "text/plain": [
       "<keras.src.callbacks.History at 0x258ff3362d0>"
      ]
     },
     "execution_count": 37,
     "metadata": {},
     "output_type": "execute_result"
    }
   ],
   "source": [
    "# 모델 훈련. 모델훈련은 정보를 저장하기 때문에 다시 수행하면 이전 정보를 담고 시작\n",
    "model4.fit(train_scaled, train_target, epochs=20)"
   ]
  },
  {
   "cell_type": "code",
   "execution_count": 38,
   "id": "1c2d81c8",
   "metadata": {},
   "outputs": [
    {
     "name": "stdout",
     "output_type": "stream",
     "text": [
      "375/375 [==============================] - 0s 856us/step - loss: 0.3230 - accuracy: 0.8893\n"
     ]
    },
    {
     "data": {
      "text/plain": [
       "[0.3229576349258423, 0.8893333077430725]"
      ]
     },
     "execution_count": 38,
     "metadata": {},
     "output_type": "execute_result"
    }
   ],
   "source": [
    "model4.evaluate(val_scaled, val_target)\n",
    "# 훈련 89%, 검증 88% - 1차이(훈련과 검증사이에 차이가 거의 없음)"
   ]
  },
  {
   "cell_type": "markdown",
   "id": "c3731f18",
   "metadata": {},
   "source": [
    "- 드롭아웃하면 정확도가 떨어짐 > 훈련과 검증(테스트)사이에 정확도 차이가 줄어듬\n",
    "- `과대적합`(훈련세트 훈련에 너무 치중하여서 정확도가 너무 높은 것) 방지"
   ]
  },
  {
   "cell_type": "markdown",
   "id": "6c262961",
   "metadata": {},
   "source": [
    "#### 모델의 저장과 복원\n",
    "- 훈련시간이 딥러닝에 크게 좌우됨. 저장이 없으면 다시 훈련시키고 시간을 소요해야 됨\n",
    "- 파일로 저장 후 모델에 대한 구조와 파라미터 만 저장하는 두가지 방법이 존재"
   ]
  },
  {
   "cell_type": "code",
   "execution_count": 39,
   "id": "f72ae5c2",
   "metadata": {},
   "outputs": [],
   "source": [
    "# 모델4 저장 - 파라미터만 저장\n",
    "model4.save_weights('./model4-weight.h5')"
   ]
  },
  {
   "cell_type": "code",
   "execution_count": 40,
   "id": "23620fba",
   "metadata": {},
   "outputs": [
    {
     "name": "stderr",
     "output_type": "stream",
     "text": [
      "c:\\Source\\iot-dataanalysis-2025\\mlvenv\\Lib\\site-packages\\keras\\src\\engine\\training.py:3103: UserWarning: You are saving your model as an HDF5 file via `model.save()`. This file format is considered legacy. We recommend using instead the native Keras format, e.g. `model.save('my_model.keras')`.\n",
      "  saving_api.save_model(\n"
     ]
    }
   ],
   "source": [
    "# 모델4 저장 - 전체(모델 구조와 파라미터) 저장\n",
    "model4.save('./model4-whole.h5')"
   ]
  },
  {
   "cell_type": "markdown",
   "id": "915a2b61",
   "metadata": {},
   "source": [
    "##### 모델 사용\n",
    "- 파라미터만 저장한 파일을 사용하려면, 먼저 모델을 생성해야 \n"
   ]
  },
  {
   "cell_type": "code",
   "execution_count": 41,
   "id": "18810562",
   "metadata": {},
   "outputs": [],
   "source": [
    "model5 = keras.Sequential([\n",
    "    keras.layers.Flatten(input_shape=(28, 28), name='flatten5'),\n",
    "    keras.layers.Dense(100, activation='relu', name='hidden5'),\n",
    "    keras.layers.Dropout(0.3, name='dropout5'), \n",
    "    keras.layers.Dense(10, activation='softmax', name='output5')\n",
    "], name='Fashion_MNIST_RELU5')"
   ]
  },
  {
   "cell_type": "code",
   "execution_count": 42,
   "id": "8d5b158b",
   "metadata": {},
   "outputs": [],
   "source": [
    "model5.load_weights('./model4-weight.h5')"
   ]
  },
  {
   "cell_type": "code",
   "execution_count": 43,
   "id": "51d20607",
   "metadata": {},
   "outputs": [
    {
     "name": "stdout",
     "output_type": "stream",
     "text": [
      "Model: \"Fashion_MNIST_RELU5\"\n",
      "_________________________________________________________________\n",
      " Layer (type)                Output Shape              Param #   \n",
      "=================================================================\n",
      " flatten5 (Flatten)          (None, 784)               0         \n",
      "                                                                 \n",
      " hidden5 (Dense)             (None, 100)               78500     \n",
      "                                                                 \n",
      " dropout5 (Dropout)          (None, 100)               0         \n",
      "                                                                 \n",
      " output5 (Dense)             (None, 10)                1010      \n",
      "                                                                 \n",
      "=================================================================\n",
      "Total params: 79510 (310.59 KB)\n",
      "Trainable params: 79510 (310.59 KB)\n",
      "Non-trainable params: 0 (0.00 Byte)\n",
      "_________________________________________________________________\n"
     ]
    }
   ],
   "source": [
    "model5.summary()"
   ]
  },
  {
   "cell_type": "code",
   "execution_count": 44,
   "id": "aeec28a8",
   "metadata": {},
   "outputs": [
    {
     "name": "stdout",
     "output_type": "stream",
     "text": [
      "313/313 [==============================] - 0s 850us/step\n"
     ]
    }
   ],
   "source": [
    "pred_result = model5.predict(test_scaled)"
   ]
  },
  {
   "cell_type": "markdown",
   "id": "bc3118d3",
   "metadata": {},
   "source": [
    "- 모델까지 전부 생성해주는 방법"
   ]
  },
  {
   "cell_type": "code",
   "execution_count": 45,
   "id": "5e73125a",
   "metadata": {},
   "outputs": [],
   "source": [
    "model6 = keras.models.load_model('./model4-whole.h5')"
   ]
  },
  {
   "cell_type": "code",
   "execution_count": 46,
   "id": "fa8cc6cf",
   "metadata": {},
   "outputs": [
    {
     "name": "stdout",
     "output_type": "stream",
     "text": [
      "Model: \"Fashion_MNIST_RELU\"\n",
      "_________________________________________________________________\n",
      " Layer (type)                Output Shape              Param #   \n",
      "=================================================================\n",
      " flatten (Flatten)           (None, 784)               0         \n",
      "                                                                 \n",
      " hidden (Dense)              (None, 100)               78500     \n",
      "                                                                 \n",
      " dropout (Dropout)           (None, 100)               0         \n",
      "                                                                 \n",
      " output (Dense)              (None, 10)                1010      \n",
      "                                                                 \n",
      "=================================================================\n",
      "Total params: 79510 (310.59 KB)\n",
      "Trainable params: 79510 (310.59 KB)\n",
      "Non-trainable params: 0 (0.00 Byte)\n",
      "_________________________________________________________________\n"
     ]
    }
   ],
   "source": [
    "model6.summary()"
   ]
  },
  {
   "cell_type": "code",
   "execution_count": 47,
   "id": "932842eb",
   "metadata": {},
   "outputs": [
    {
     "name": "stdout",
     "output_type": "stream",
     "text": [
      "313/313 [==============================] - 0s 1ms/step - loss: 0.3532 - accuracy: 0.8803\n"
     ]
    },
    {
     "data": {
      "text/plain": [
       "[0.35322368144989014, 0.880299985408783]"
      ]
     },
     "execution_count": 47,
     "metadata": {},
     "output_type": "execute_result"
    }
   ],
   "source": [
    "model6.evaluate(test_scaled, test_target)"
   ]
  },
  {
   "cell_type": "markdown",
   "id": "63f319f5",
   "metadata": {},
   "source": [
    "#### 콜백\n",
    "- 실행도중 다른 일을 할 수 있도록 해주는 기능\n",
    "- `조기종료`를 위해서 사용."
   ]
  },
  {
   "cell_type": "code",
   "execution_count": 48,
   "id": "ecd459b6",
   "metadata": {},
   "outputs": [],
   "source": [
    "model7 = keras.Sequential([\n",
    "    keras.layers.Flatten(input_shape=(28, 28), name='flatten'),\n",
    "    keras.layers.Dense(100, activation='relu', name='hidden'),\n",
    "    keras.layers.Dropout(0.3, name='dropout'), \n",
    "    keras.layers.Dense(10, activation='softmax', name='output')\n",
    "], name='Fashion_MNIST_RELU7')"
   ]
  },
  {
   "cell_type": "code",
   "execution_count": 49,
   "id": "2a5454d4",
   "metadata": {},
   "outputs": [],
   "source": [
    "model7.compile(loss='sparse_categorical_crossentropy', metrics='accuracy', optimizer='adam')"
   ]
  },
  {
   "cell_type": "code",
   "execution_count": 50,
   "id": "210c98ef",
   "metadata": {},
   "outputs": [],
   "source": [
    "# 에포크마다 모델 저장기능 콜백\n",
    "checkpoint_cb = keras.callbacks.ModelCheckpoint('./best-model.h5', save_best_only=True) # 최고 상태면 저장\n",
    "# 조기종료 콜백\n",
    "## 두번이상 훈련값이 동일하면 조기종료, 이전 최고상태로 복구\n",
    "early_stopp_cb = keras.callbacks.EarlyStopping(patience=2, restore_best_weights=True)"
   ]
  },
  {
   "cell_type": "code",
   "execution_count": 51,
   "id": "b16f8a3d",
   "metadata": {},
   "outputs": [
    {
     "name": "stdout",
     "output_type": "stream",
     "text": [
      "Epoch 1/20\n",
      "1500/1500 [==============================] - 3s 2ms/step - loss: 0.6003 - accuracy: 0.7901 - val_loss: 0.4447 - val_accuracy: 0.8372\n",
      "Epoch 2/20\n",
      "1500/1500 [==============================] - 2s 1ms/step - loss: 0.4389 - accuracy: 0.8414 - val_loss: 0.3797 - val_accuracy: 0.8648\n",
      "Epoch 3/20\n",
      "1500/1500 [==============================] - 2s 1ms/step - loss: 0.4049 - accuracy: 0.8539 - val_loss: 0.3641 - val_accuracy: 0.8627\n",
      "Epoch 4/20\n",
      "1500/1500 [==============================] - 2s 1ms/step - loss: 0.3833 - accuracy: 0.8606 - val_loss: 0.3634 - val_accuracy: 0.8663\n",
      "Epoch 5/20\n",
      "1500/1500 [==============================] - 2s 1ms/step - loss: 0.3683 - accuracy: 0.8637 - val_loss: 0.3433 - val_accuracy: 0.8743\n",
      "Epoch 6/20\n",
      "1500/1500 [==============================] - 2s 1ms/step - loss: 0.3542 - accuracy: 0.8695 - val_loss: 0.3387 - val_accuracy: 0.8748\n",
      "Epoch 7/20\n",
      "1500/1500 [==============================] - 2s 1ms/step - loss: 0.3466 - accuracy: 0.8728 - val_loss: 0.3347 - val_accuracy: 0.8780\n",
      "Epoch 8/20\n",
      "1500/1500 [==============================] - 2s 2ms/step - loss: 0.3356 - accuracy: 0.8754 - val_loss: 0.3466 - val_accuracy: 0.8721\n",
      "Epoch 9/20\n",
      "1500/1500 [==============================] - 2s 2ms/step - loss: 0.3283 - accuracy: 0.8797 - val_loss: 0.3394 - val_accuracy: 0.8758\n"
     ]
    },
    {
     "data": {
      "text/plain": [
       "<keras.src.callbacks.History at 0x258f7cbee90>"
      ]
     },
     "execution_count": 51,
     "metadata": {},
     "output_type": "execute_result"
    }
   ],
   "source": [
    "# 모델 훈련. 모델훈련은 정보를 저장하기 때문에 다시 수행하면 이전 정보를 담고 시작\n",
    "model7.fit(train_scaled, train_target, epochs=20, validation_data=(val_scaled, val_target),\n",
    "           callbacks=[checkpoint_cb, early_stopp_cb])"
   ]
  },
  {
   "cell_type": "code",
   "execution_count": 52,
   "id": "893f2bc1",
   "metadata": {},
   "outputs": [
    {
     "name": "stdout",
     "output_type": "stream",
     "text": [
      "375/375 [==============================] - 0s 810us/step - loss: 0.3347 - accuracy: 0.8780\n"
     ]
    },
    {
     "data": {
      "text/plain": [
       "[0.3346650302410126, 0.878000020980835]"
      ]
     },
     "execution_count": 52,
     "metadata": {},
     "output_type": "execute_result"
    }
   ],
   "source": [
    "model7.evaluate(val_scaled, val_target)"
   ]
  },
  {
   "cell_type": "code",
   "execution_count": 53,
   "id": "6c1fe840",
   "metadata": {},
   "outputs": [
    {
     "name": "stdout",
     "output_type": "stream",
     "text": [
      "313/313 [==============================] - 0s 857us/step - loss: 0.3654 - accuracy: 0.8693\n"
     ]
    },
    {
     "data": {
      "text/plain": [
       "[0.36542052030563354, 0.8693000078201294]"
      ]
     },
     "execution_count": 53,
     "metadata": {},
     "output_type": "execute_result"
    }
   ],
   "source": [
    "model7.evaluate(test_scaled, test_target)"
   ]
  },
  {
   "cell_type": "code",
   "execution_count": 54,
   "id": "80fabebb",
   "metadata": {},
   "outputs": [
    {
     "data": {
      "text/plain": [
       "8"
      ]
     },
     "execution_count": 54,
     "metadata": {},
     "output_type": "execute_result"
    }
   ],
   "source": [
    "early_stopp_cb.stopped_epoch"
   ]
  },
  {
   "cell_type": "markdown",
   "id": "61488fe7",
   "metadata": {},
   "source": [
    "- 20번중 15번반복에서 조기종료"
   ]
  },
  {
   "cell_type": "markdown",
   "id": "33d0890f",
   "metadata": {},
   "source": [
    "#### 결론\n",
    "- `심층 신경망` : 2개 이상의 밀집층을 포함한 신경망 모델. 다층 인공신경망\n",
    "- `렐루함수` : 시그모이드 함수의 단점을 보완한 활성화 함수\n",
    "- `옵티마이저` : 신경망의 가중치(기울기)와 절편을 학습하기 위한 알고리즘 또는 방법. `Adam`, SGD(확률적 경사하강법), RMSprop...\n",
    "\n",
    "- `드롭아웃` : 밀집층의 뉴런을 임의로 꺼서 훈련을 덜 시키는 것. 과대적합 막기위해서 수행\n",
    "- 모델 저장과 복원 : 이미 훈련된 데이터를 저장했다가 나중에 다시 쓰기 위해서 \n",
    "- `콜백` : 에포크마다 모델 저장 또는 조기종료 를 위해서 훈련 도중에 다른 기능을 수행하는 것"
   ]
  }
 ],
 "metadata": {
  "kernelspec": {
   "display_name": "mlvenv",
   "language": "python",
   "name": "python3"
  },
  "language_info": {
   "codemirror_mode": {
    "name": "ipython",
    "version": 3
   },
   "file_extension": ".py",
   "mimetype": "text/x-python",
   "name": "python",
   "nbconvert_exporter": "python",
   "pygments_lexer": "ipython3",
   "version": "3.11.9"
  }
 },
 "nbformat": 4,
 "nbformat_minor": 5
}
